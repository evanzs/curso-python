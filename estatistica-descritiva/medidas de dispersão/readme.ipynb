{
 "cells": [
  {
   "cell_type": "markdown",
   "metadata": {},
   "source": [
    "## Medidas de dispersão\n",
    "# medida de dispersão usada para avaliar  até que ponto ou não os resultados se assemelham as medidas centrais\n",
    "# logo medidas de dispersao e medidas de tendencia central se complementa\n"
   ]
  },
  {
   "cell_type": "markdown",
   "metadata": {},
   "source": [
    "## amplitudo total\n",
    "# é a diferença entre o maior e o menor valor observados.\n",
    "## Problemas:\n",
    "# não leva em consideração os valores intermediarios\n",
    "# não temos informações de como os dados estão distribuidos"
   ]
  },
  {
   "cell_type": "markdown",
   "metadata": {},
   "source": [
    "## amplitude interquatilica\n",
    "# DIFINIÇÂO: é a diferença entre o terceiro quartil e o primeiro quartial\n",
    "# ampli: Q3 - Q1\n",
    "\n",
    "# - medidas mais estavel que o amplitude total\n",
    "# - abrange 50% dos dados\n",
    "# - util para detectar valores descrepantes\n",
    "\n",
    "\n",
    "## amplitude semi-quartil\n",
    "\n",
    "# (Q3 - Q2)/2"
   ]
  },
  {
   "cell_type": "markdown",
   "metadata": {},
   "source": [
    "## DESVIO MÉDIO\n",
    "# diferença entre cada valor obs e a média\n",
    "# xi - media\n",
    "\n",
    "## OBS: note já que a soma dos desvio é ZERO, é necessário fazer as operações em modulo para ignorar os sinas"
   ]
  },
  {
   "cell_type": "markdown",
   "metadata": {},
   "source": [
    "## Para corrigir o problema do DESVIO MEDIO TEMOS \n",
    "## VARIANCIA E DESVIO PADRAO\n",
    "\n",
    "# variança = soma(xi - media)²\n",
    "# desvio padrao = sqrt(soma(xi - media)²)"
   ]
  },
  {
   "cell_type": "code",
   "execution_count": null,
   "metadata": {},
   "outputs": [],
   "source": []
  }
 ],
 "metadata": {
  "language_info": {
   "name": "python"
  }
 },
 "nbformat": 4,
 "nbformat_minor": 2
}
