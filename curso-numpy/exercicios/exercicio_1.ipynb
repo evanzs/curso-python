{
 "cells": [
  {
   "cell_type": "markdown",
   "metadata": {},
   "source": [
    "##Exercicio 01 - avaliar a igualdade de vetores e seus elementos\n",
    "\n",
    "* a partir de dois vetores x e y;\n",
    "* construir uma função/alg para avaliar se dois vetores são iguais ou diferentes;\n",
    "* apresentar os elementos iguais dos vetores;\n",
    "* comparar elemento por elemento dos vetores apresentar indices onde os valores são iguais nos dois vetores"
   ]
  },
  {
   "cell_type": "code",
   "execution_count": 1,
   "metadata": {},
   "outputs": [],
   "source": [
    "import numpy as np"
   ]
  },
  {
   "cell_type": "code",
   "execution_count": 2,
   "metadata": {},
   "outputs": [],
   "source": [
    "x = np.array([1.0,3.,2.6,4.3,7.7,5.6])\n",
    "y = np.array([1.,2.6,3.,4,7,5.6])"
   ]
  },
  {
   "cell_type": "code",
   "execution_count": 3,
   "metadata": {},
   "outputs": [],
   "source": [
    "def todosIguais(cmp):\n",
    "    return cmp.all()\n"
   ]
  },
  {
   "cell_type": "code",
   "execution_count": 16,
   "metadata": {},
   "outputs": [],
   "source": [
    "def verificaIguais(x,y):\n",
    "    iguaisIndices = np.where(x == y)\n",
    "    result = map(lambda indice:f' indice {indice} de valor {y[indice]}',iguaisIndices)\n",
    "    print(list(result))\n",
    "\n"
   ]
  },
  {
   "cell_type": "code",
   "execution_count": 17,
   "metadata": {},
   "outputs": [
    {
     "name": "stdout",
     "output_type": "stream",
     "text": [
      "vetor comparação entre os veltores:  [ True False False False False  True]\n",
      "existe alguns indices semelhantes\n",
      "[' indice [0 5] de valor [1.  5.6]']\n"
     ]
    }
   ],
   "source": [
    "vetor_cmp = x == y\n",
    "print(\"vetor comparação entre os veltores: \",vetor_cmp)\n",
    "\n",
    "if(todosIguais(vetor_cmp)):\n",
    "    print(\"todos os vetores são iguais\")\n",
    "    verificaIguais(x,y)\n",
    "else:\n",
    "    if(vetor_cmp.any()):\n",
    "        print(\"existe alguns indices semelhantes\")\n",
    "        verificaIguais(x,y)\n",
    "\n",
    "    else:\n",
    "        print(\"todos os vetores são diferentes\")"
   ]
  },
  {
   "cell_type": "code",
   "execution_count": 15,
   "metadata": {},
   "outputs": [
    {
     "name": "stdout",
     "output_type": "stream",
     "text": [
      "(array([0, 5]),)\n",
      "[' indice [0 5] de valor [1.  5.6]']\n"
     ]
    }
   ],
   "source": []
  }
 ],
 "metadata": {
  "kernelspec": {
   "display_name": "Python 3",
   "language": "python",
   "name": "python3"
  },
  "language_info": {
   "codemirror_mode": {
    "name": "ipython",
    "version": 3
   },
   "file_extension": ".py",
   "mimetype": "text/x-python",
   "name": "python",
   "nbconvert_exporter": "python",
   "pygments_lexer": "ipython3",
   "version": "3.8.10"
  }
 },
 "nbformat": 4,
 "nbformat_minor": 2
}
