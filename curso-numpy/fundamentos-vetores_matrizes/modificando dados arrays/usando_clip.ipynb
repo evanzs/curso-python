{
 "cells": [
  {
   "cell_type": "markdown",
   "metadata": {},
   "source": [
    "## usando a funcao clip()"
   ]
  },
  {
   "cell_type": "code",
   "execution_count": 5,
   "metadata": {},
   "outputs": [],
   "source": [
    "import numpy as np \n",
    "\n",
    "x = np.array([-4,-3,-2,-1,0,1,2,3,4,5])"
   ]
  },
  {
   "cell_type": "code",
   "execution_count": 9,
   "metadata": {},
   "outputs": [
    {
     "name": "stdout",
     "output_type": "stream",
     "text": [
      "[-4 -3 -2 -1  0  1  2  3  4  5]\n",
      "[-2 -2 -2 -1  0  1  2  2  2  2]\n"
     ]
    }
   ],
   "source": [
    "#igualando os extremos para 2 \n",
    "\n",
    "x.clip(-2,2)\n",
    "\n",
    "print(x)\n",
    "\n",
    "## cria um intervalo, todos abaixo de 2 viram -2 todos acima de 2 viram 2\n",
    "## os do meio n sofrem alteração\n",
    "x = x.clip(-2,2)\n",
    "print(x)"
   ]
  },
  {
   "cell_type": "code",
   "execution_count": 10,
   "metadata": {},
   "outputs": [
    {
     "name": "stdout",
     "output_type": "stream",
     "text": [
      "[0 0 0 0 0 1 2 3 4 4]\n"
     ]
    }
   ],
   "source": [
    "x = np.array([-4,-3,-2,-1,0,1,2,3,4,5])\n",
    "x = x.clip(0,4)\n",
    "print(x)"
   ]
  }
 ],
 "metadata": {
  "kernelspec": {
   "display_name": "Python 3",
   "language": "python",
   "name": "python3"
  },
  "language_info": {
   "codemirror_mode": {
    "name": "ipython",
    "version": 3
   },
   "file_extension": ".py",
   "mimetype": "text/x-python",
   "name": "python",
   "nbconvert_exporter": "python",
   "pygments_lexer": "ipython3",
   "version": "3.8.10"
  }
 },
 "nbformat": 4,
 "nbformat_minor": 2
}
