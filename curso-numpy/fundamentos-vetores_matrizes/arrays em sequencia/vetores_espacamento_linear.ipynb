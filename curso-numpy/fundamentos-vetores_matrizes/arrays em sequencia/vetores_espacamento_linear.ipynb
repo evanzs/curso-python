{
 "cells": [
  {
   "cell_type": "markdown",
   "metadata": {},
   "source": [
    "#VETORES ESPAÇADOS LINEARMENTE COM ESCALA LOG\n"
   ]
  },
  {
   "cell_type": "code",
   "execution_count": 2,
   "metadata": {},
   "outputs": [],
   "source": [
    "import numpy as np\n",
    "\n"
   ]
  },
  {
   "cell_type": "code",
   "execution_count": 7,
   "metadata": {},
   "outputs": [
    {
     "name": "stdout",
     "output_type": "stream",
     "text": [
      "[ 0.  12.5 25.  37.5 50. ]\n",
      "[ 0.          5.55555556 11.11111111 16.66666667 22.22222222 27.77777778\n",
      " 33.33333333 38.88888889 44.44444444 50.        ]\n",
      "[ 0.  12.5 25.  37.5 50. ]\n"
     ]
    }
   ],
   "source": [
    "#espaçamento igual\n",
    "\n",
    "#criando um array entre 0 e 50 com 5 elementos\n",
    "x = np.linspace(0,50,5) ##note que os espaçamentos são iguais entre eles de 12.5\n",
    "\n",
    "print(x)\n",
    "\n",
    "#criando um array entre 0 e 50 com 10 elementos\n",
    "x = np.linspace(0,50,10)\n",
    "\n",
    "print(x) ##note que os espaçamentos são iguais entre eles de 5.55555\n",
    "\n",
    "\n",
    "#criando um array entre 0 e 50 com 5 elementos\n",
    "x = np.linspace(0,50,num=5) ##note que os espaçamentos são iguais entre eles de 12.5\n",
    "\n",
    "print(x)\n"
   ]
  }
 ],
 "metadata": {
  "kernelspec": {
   "display_name": "Python 3",
   "language": "python",
   "name": "python3"
  },
  "language_info": {
   "codemirror_mode": {
    "name": "ipython",
    "version": 3
   },
   "file_extension": ".py",
   "mimetype": "text/x-python",
   "name": "python",
   "nbconvert_exporter": "python",
   "pygments_lexer": "ipython3",
   "version": "3.8.10"
  }
 },
 "nbformat": 4,
 "nbformat_minor": 2
}
