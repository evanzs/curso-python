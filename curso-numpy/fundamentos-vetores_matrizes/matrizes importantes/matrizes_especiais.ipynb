{
 "cells": [
  {
   "cell_type": "markdown",
   "metadata": {},
   "source": [
    "##MAtrizes especiais"
   ]
  },
  {
   "cell_type": "code",
   "execution_count": 2,
   "metadata": {},
   "outputs": [
    {
     "data": {
      "text/plain": [
       "array([[2.23505970e-316, 0.00000000e+000, 2.40677185e-239,\n",
       "        3.23136435e-234],\n",
       "       [1.45272632e-296, 1.57730203e-234, 7.88786248e-297,\n",
       "        7.93529732e-301],\n",
       "       [2.49821039e-306, 6.01293950e-215, 9.53035071e-292,\n",
       "        9.34035634e-181],\n",
       "       [1.07280287e-296, 1.56812224e-248, 5.13373934e-307,\n",
       "        5.34045567e-307],\n",
       "       [3.02009204e-282, 2.78288555e-307, 1.60294408e-306,\n",
       "        9.99035900e-311]])"
      ]
     },
     "execution_count": 2,
     "metadata": {},
     "output_type": "execute_result"
    }
   ],
   "source": [
    "## funcao empty criando matrizes de zeros ou vazias\n",
    "\n",
    "import numpy as np \n",
    "\n",
    "x = np.empty((5,4)) ## os numeros não são zeros mas são extramente pequenos, na pratica vazio\n",
    "x"
   ]
  },
  {
   "cell_type": "code",
   "execution_count": 3,
   "metadata": {},
   "outputs": [
    {
     "data": {
      "text/plain": [
       "array([[0., 0., 0., 0.],\n",
       "       [0., 0., 0., 0.],\n",
       "       [0., 0., 0., 0.],\n",
       "       [0., 0., 0., 0.],\n",
       "       [0., 0., 0., 0.]])"
      ]
     },
     "execution_count": 3,
     "metadata": {},
     "output_type": "execute_result"
    }
   ],
   "source": [
    "x = np.zeros((5,4)) ## os numeros não são zeros mas são extramente pequenos, na pratica vazio\n",
    "x"
   ]
  },
  {
   "cell_type": "markdown",
   "metadata": {},
   "source": [
    "##Criando matriz identidade"
   ]
  },
  {
   "cell_type": "code",
   "execution_count": 6,
   "metadata": {},
   "outputs": [
    {
     "name": "stdout",
     "output_type": "stream",
     "text": [
      "[[1. 0. 0. 0.]\n",
      " [0. 1. 0. 0.]\n",
      " [0. 0. 1. 0.]\n",
      " [0. 0. 0. 1.]]\n",
      "--------------------\n",
      "[[1. 0. 0.]\n",
      " [0. 1. 0.]\n",
      " [0. 0. 1.]]\n",
      "--------------------\n",
      "[[1. 0.]\n",
      " [0. 1.]]\n",
      "--------------------\n",
      "[[1. 0. 0. 0. 0.]\n",
      " [0. 1. 0. 0. 0.]\n",
      " [0. 0. 1. 0. 0.]\n",
      " [0. 0. 0. 1. 0.]\n",
      " [0. 0. 0. 0. 1.]]\n"
     ]
    }
   ],
   "source": [
    "x = np.eye(4)\n",
    "print(x)\n",
    "\n",
    "x = np.eye(3)\n",
    "print(\"--------------------\")\n",
    "print(x)\n",
    "\n",
    "x = np.eye(2)\n",
    "print(\"--------------------\")\n",
    "print(x)\n",
    "\n",
    "x = np.eye(5)\n",
    "print(\"--------------------\")\n",
    "print(x)"
   ]
  },
  {
   "cell_type": "code",
   "execution_count": null,
   "metadata": {},
   "outputs": [],
   "source": []
  }
 ],
 "metadata": {
  "kernelspec": {
   "display_name": "Python 3",
   "language": "python",
   "name": "python3"
  },
  "language_info": {
   "codemirror_mode": {
    "name": "ipython",
    "version": 3
   },
   "file_extension": ".py",
   "mimetype": "text/x-python",
   "name": "python",
   "nbconvert_exporter": "python",
   "pygments_lexer": "ipython3",
   "version": "3.8.10"
  }
 },
 "nbformat": 4,
 "nbformat_minor": 2
}
