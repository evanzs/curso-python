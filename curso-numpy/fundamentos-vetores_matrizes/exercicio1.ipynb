{
 "cells": [
  {
   "cell_type": "markdown",
   "metadata": {},
   "source": [
    "# Exercicio 1 - avaliar a igualdade de vetores e seus elementos\n",
    "\n",
    "\n",
    "- A partir de dois vetores x e y \n",
    "- construir uma função para avaliar a igualdade\n",
    "- apresentar os elementos iguais dos vetores\n",
    "- apresentar os indices onde os alementos são iguais nos dois vetores\n",
    "\n"
   ]
  }
 ],
 "metadata": {
  "kernelspec": {
   "display_name": "Python 3",
   "language": "python",
   "name": "python3"
  },
  "language_info": {
   "codemirror_mode": {
    "name": "ipython",
    "version": 3
   },
   "file_extension": ".py",
   "mimetype": "text/x-python",
   "name": "python",
   "nbconvert_exporter": "python",
   "pygments_lexer": "ipython3",
   "version": "3.8.10"
  },
  "orig_nbformat": 4
 },
 "nbformat": 4,
 "nbformat_minor": 2
}
