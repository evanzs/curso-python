{
 "cells": [
  {
   "cell_type": "markdown",
   "metadata": {},
   "source": [
    "# Exercicio 1 - avaliar a igualdade de vetores e seus elementos\n",
    "\n",
    "\n",
    "- A partir de dois vetores x e y \n",
    "- construir uma função para avaliar a igualdade\n",
    "- apresentar os elementos iguais dos vetores\n",
    "- apresentar os indices onde os alementos são iguais nos dois vetores\n",
    "\n"
   ]
  },
  {
   "cell_type": "code",
   "execution_count": 1,
   "metadata": {},
   "outputs": [],
   "source": [
    "import numpy as np"
   ]
  },
  {
   "cell_type": "code",
   "execution_count": 2,
   "metadata": {},
   "outputs": [],
   "source": [
    "x = np.array([1.2,2,1,4,3,5.5,2,7,8,9,10])\n",
    "y = np.array([1,2,1.3,4,3,5,2,7,8,9,10])"
   ]
  },
  {
   "cell_type": "code",
   "execution_count": 3,
   "metadata": {},
   "outputs": [
    {
     "name": "stdout",
     "output_type": "stream",
     "text": [
      "11\n",
      "11\n"
     ]
    }
   ],
   "source": [
    "print(len(x))\n",
    "print(len(y))"
   ]
  },
  {
   "cell_type": "code",
   "execution_count": 4,
   "metadata": {},
   "outputs": [],
   "source": [
    "def avalia_igualdade(x,y):\n",
    "  \n",
    "    if (np.all(x==y)):  #verificando igualdade\n",
    "        print(\"Todos os valores são iguais.\")\n",
    "    \n",
    "    #obtem um array de index dos valores iguais\n",
    "    cmp = np.where( x == y)\n",
    "    # captura os valores iguais seguindo o index obtido\n",
    "    valores = list(map( lambda i : x[i] ,cmp ))\n",
    "    print(\"Os valores iguais contidos: \",valores)\n",
    "    print(\"Os index dos valores iguais contidos: \",list(cmp))"
   ]
  },
  {
   "cell_type": "code",
   "execution_count": 5,
   "metadata": {},
   "outputs": [
    {
     "name": "stdout",
     "output_type": "stream",
     "text": [
      "Os valores iguais contidos:  [array([ 2.,  4.,  3.,  2.,  7.,  8.,  9., 10.])]\n",
      "Os index dos valores iguais contidos:  [array([ 1,  3,  4,  6,  7,  8,  9, 10])]\n"
     ]
    }
   ],
   "source": [
    "avalia_igualdade(x,y)"
   ]
  }
 ],
 "metadata": {
  "kernelspec": {
   "display_name": "Python 3",
   "language": "python",
   "name": "python3"
  },
  "language_info": {
   "codemirror_mode": {
    "name": "ipython",
    "version": 3
   },
   "file_extension": ".py",
   "mimetype": "text/x-python",
   "name": "python",
   "nbconvert_exporter": "python",
   "pygments_lexer": "ipython3",
   "version": "3.8.10"
  },
  "orig_nbformat": 4
 },
 "nbformat": 4,
 "nbformat_minor": 2
}
