{
 "cells": [
  {
   "cell_type": "markdown",
   "metadata": {},
   "source": [
    "## trabalhando com slicing ou fatiamento em vetores 3D"
   ]
  },
  {
   "cell_type": "code",
   "execution_count": 4,
   "metadata": {},
   "outputs": [
    {
     "name": "stdout",
     "output_type": "stream",
     "text": [
      "[[[56 12 43]\n",
      "  [64 83 59]\n",
      "  [42 66 64]]\n",
      "\n",
      " [[78 50 77]\n",
      "  [10 49 51]\n",
      "  [76 29 84]]\n",
      "\n",
      " [[25 77 99]\n",
      "  [22 55 65]\n",
      "  [31 35  1]]]\n"
     ]
    }
   ],
   "source": [
    "import numpy as np\n",
    "x = np.random.randint(100,size=(9,3)).reshape(3,3,3)\n",
    "print(x)\n"
   ]
  },
  {
   "cell_type": "code",
   "execution_count": 16,
   "metadata": {},
   "outputs": [
    {
     "name": "stdout",
     "output_type": "stream",
     "text": [
      "[[[25 77 99]\n",
      "  [22 55 65]\n",
      "  [31 35  1]]]\n",
      "[]\n"
     ]
    }
   ],
   "source": [
    "## pegando apenas a ultima matriz\n",
    "m2_n = x[-1:,0:,0:]\n",
    "\n",
    "print(m2_n)\n",
    "\n",
    "\n",
    "## pegando apenas a ultima matriz\n",
    "m2_n = x[3:,0:,0:]\n",
    "print(m2_n)"
   ]
  },
  {
   "cell_type": "code",
   "execution_count": 23,
   "metadata": {},
   "outputs": [
    {
     "name": "stdout",
     "output_type": "stream",
     "text": [
      "[[[56]\n",
      "  [64]\n",
      "  [42]]\n",
      "\n",
      " [[78]\n",
      "  [10]\n",
      "  [76]]\n",
      "\n",
      " [[25]\n",
      "  [22]\n",
      "  [31]]]\n",
      "\n",
      " Outra forma de fazer\n",
      " \n",
      "[[[56]\n",
      "  [64]\n",
      "  [42]]\n",
      "\n",
      " [[78]\n",
      "  [10]\n",
      "  [76]]\n",
      "\n",
      " [[25]\n",
      "  [22]\n",
      "  [31]]]\n"
     ]
    }
   ],
   "source": [
    "## obtendo apenas os 2 ultimos elementos de todas as primeiros colunas\n",
    "m2_n = x[0:,0:,:1]\n",
    "print(m2_n)\n",
    "\n",
    "\n",
    "print(\"\\n Outra forma de fazer\\n \")\n",
    "## obtendo apenas os 2 ultimos elementos de todas as primeiros colunas\n",
    "m2_n = x[0:,:3,:1]\n",
    "print(m2_n)"
   ]
  },
  {
   "cell_type": "code",
   "execution_count": null,
   "metadata": {},
   "outputs": [],
   "source": []
  }
 ],
 "metadata": {
  "kernelspec": {
   "display_name": "Python 3",
   "language": "python",
   "name": "python3"
  },
  "language_info": {
   "codemirror_mode": {
    "name": "ipython",
    "version": 3
   },
   "file_extension": ".py",
   "mimetype": "text/x-python",
   "name": "python",
   "nbconvert_exporter": "python",
   "pygments_lexer": "ipython3",
   "version": "3.8.10"
  }
 },
 "nbformat": 4,
 "nbformat_minor": 2
}
