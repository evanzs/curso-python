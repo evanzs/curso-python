{
 "cells": [
  {
   "cell_type": "markdown",
   "metadata": {},
   "source": [
    "## Trabalhando com reshape em vetores 3D\n",
    "# muito util em ML para manipular a base de dados"
   ]
  },
  {
   "cell_type": "code",
   "execution_count": 1,
   "metadata": {},
   "outputs": [],
   "source": [
    "import numpy as np"
   ]
  },
  {
   "cell_type": "code",
   "execution_count": 4,
   "metadata": {},
   "outputs": [
    {
     "name": "stdout",
     "output_type": "stream",
     "text": [
      "[[38 98  4]\n",
      " [47 34 20]\n",
      " [36 16 90]]\n"
     ]
    }
   ],
   "source": [
    "x = np.random.randint(100,size=(3,3))\n",
    "print(x)\n"
   ]
  },
  {
   "cell_type": "code",
   "execution_count": 6,
   "metadata": {},
   "outputs": [
    {
     "ename": "ValueError",
     "evalue": "cannot reshape array of size 9 into shape (1,2,2)",
     "output_type": "error",
     "traceback": [
      "\u001b[0;31m---------------------------------------------------------------------------\u001b[0m",
      "\u001b[0;31mValueError\u001b[0m                                Traceback (most recent call last)",
      "Cell \u001b[0;32mIn[6], line 2\u001b[0m\n\u001b[1;32m      1\u001b[0m \u001b[38;5;66;03m## nessa estrutura \u001b[39;00m\n\u001b[0;32m----> 2\u001b[0m x1 \u001b[38;5;241m=\u001b[39m \u001b[43mx\u001b[49m\u001b[38;5;241;43m.\u001b[39;49m\u001b[43mreshape\u001b[49m\u001b[43m(\u001b[49m\u001b[38;5;241;43m1\u001b[39;49m\u001b[43m,\u001b[49m\u001b[38;5;241;43m2\u001b[39;49m\u001b[43m,\u001b[49m\u001b[38;5;241;43m2\u001b[39;49m\u001b[43m)\u001b[49m\n\u001b[1;32m      3\u001b[0m \u001b[38;5;28mprint\u001b[39m(x)\n",
      "\u001b[0;31mValueError\u001b[0m: cannot reshape array of size 9 into shape (1,2,2)"
     ]
    }
   ],
   "source": [
    "## nessa estrutura temos um erro pq a os valores não sao igauis\n",
    "# temos que 3 x 3 = 9 \n",
    "# então (1 x 2 x 2) também tem que ser igual a 9\n",
    "x1 = x.reshape(1,2,2)\n",
    "print(x)"
   ]
  },
  {
   "cell_type": "code",
   "execution_count": 9,
   "metadata": {},
   "outputs": [
    {
     "name": "stdout",
     "output_type": "stream",
     "text": [
      "[[[38 98  4]\n",
      "  [47 34 20]\n",
      "  [36 16 90]]]\n"
     ]
    }
   ],
   "source": [
    "## Estrutura possivel\n",
    "# temos que 3 x 3 = 9 \n",
    "# então (1 x 3 x 3) também tem que ser igual a 9\n",
    "x1 = x.reshape(1,3,3)\n",
    "print(x1)"
   ]
  },
  {
   "cell_type": "code",
   "execution_count": 10,
   "metadata": {},
   "outputs": [
    {
     "name": "stdout",
     "output_type": "stream",
     "text": [
      "[[62 95 34 74]\n",
      " [ 5 37 15 66]\n",
      " [35 28 12 15]]\n"
     ]
    }
   ],
   "source": [
    "x = np.random.randint(100,size=(3,4))\n",
    "print(x)\n"
   ]
  },
  {
   "cell_type": "code",
   "execution_count": 12,
   "metadata": {},
   "outputs": [
    {
     "name": "stdout",
     "output_type": "stream",
     "text": [
      "[[[62 95 34]\n",
      "  [74  5 37]]\n",
      "\n",
      " [[15 66 35]\n",
      "  [28 12 15]]]\n"
     ]
    }
   ],
   "source": [
    "x1 = x.reshape(2,2,3)\n",
    "print(x1)"
   ]
  },
  {
   "cell_type": "code",
   "execution_count": 16,
   "metadata": {},
   "outputs": [
    {
     "name": "stdout",
     "output_type": "stream",
     "text": [
      "[[[62 95 34 74]]\n",
      "\n",
      " [[ 5 37 15 66]]\n",
      "\n",
      " [[35 28 12 15]]]\n"
     ]
    }
   ],
   "source": [
    "x1 = x.reshape(3,1,4)\n",
    "print(x1)"
   ]
  }
 ],
 "metadata": {
  "kernelspec": {
   "display_name": "Python 3",
   "language": "python",
   "name": "python3"
  },
  "language_info": {
   "codemirror_mode": {
    "name": "ipython",
    "version": 3
   },
   "file_extension": ".py",
   "mimetype": "text/x-python",
   "name": "python",
   "nbconvert_exporter": "python",
   "pygments_lexer": "ipython3",
   "version": "3.8.10"
  }
 },
 "nbformat": 4,
 "nbformat_minor": 2
}
