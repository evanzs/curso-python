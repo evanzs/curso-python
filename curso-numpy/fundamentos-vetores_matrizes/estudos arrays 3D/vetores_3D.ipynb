{
 "cells": [
  {
   "cell_type": "markdown",
   "metadata": {},
   "source": [
    "## Trabalhando com vetores 3D\n",
    "\n",
    "# vetores 3D são empilhamento de matrizes"
   ]
  },
  {
   "cell_type": "code",
   "execution_count": 1,
   "metadata": {},
   "outputs": [],
   "source": [
    "import numpy as np"
   ]
  },
  {
   "cell_type": "code",
   "execution_count": 3,
   "metadata": {},
   "outputs": [],
   "source": [
    "## vetor normal 1D\n",
    "v1 = np.array( [ 1,2,3 ] )\n",
    "\n",
    "## vetor 2D ou matriz\n",
    "v2 = np.array( [ [ 1,2,3 ] ] )\n",
    "\n",
    "## vetor 3D lista de matrizes\n",
    "v3 = np.array( [ [ [ 1,2,3 ] ]  ])"
   ]
  },
  {
   "cell_type": "code",
   "execution_count": 5,
   "metadata": {},
   "outputs": [
    {
     "name": "stdout",
     "output_type": "stream",
     "text": [
      "V1: \n",
      "[1 2 3]\n",
      "(3,) \n",
      "\n",
      "V2: \n",
      "[[1 2 3]]\n",
      "(1, 3) \n",
      "\n",
      "V3: \n",
      "[[[1 2 3]]]\n",
      "(1, 1, 3) \n",
      "\n"
     ]
    }
   ],
   "source": [
    "print(\"V1: \")\n",
    "print(v1)\n",
    "print(v1.shape,'\\n') ## vetor com 3 elementos\n",
    "\n",
    "print(\"V2: \")\n",
    "print(v2)\n",
    "print(v2.shape,'\\n') ## matriz com 1 linha e 3 colunas\n",
    "\n",
    "\n",
    "print(\"V3: \")\n",
    "print(v3)\n",
    "print(v3.shape,'\\n') ## Vetor 3D com uma camada e contendo uma matriz [1,3]"
   ]
  },
  {
   "cell_type": "code",
   "execution_count": 8,
   "metadata": {},
   "outputs": [
    {
     "name": "stdout",
     "output_type": "stream",
     "text": [
      "[[[1 2 3]\n",
      "  [1 2 3]\n",
      "  [1 2 3]]]\n",
      "(1, 3, 3) \n",
      "\n"
     ]
    }
   ],
   "source": [
    "## Criando um vetor 3D de 1 camada e uma matrizes [3,3]\n",
    "v = np.array( [ [ [ 1,2,3 ], [ 1,2,3 ],[ 1,2,3 ] ]  ])\n",
    "\n",
    "print(v)\n",
    "print(v.shape,'\\n')"
   ]
  },
  {
   "cell_type": "code",
   "execution_count": 10,
   "metadata": {},
   "outputs": [
    {
     "name": "stdout",
     "output_type": "stream",
     "text": [
      "[[[1 2]\n",
      "  [1 2]]\n",
      "\n",
      " [[1 2]\n",
      "  [1 2]]]\n",
      "(2, 2, 2) \n",
      "\n"
     ]
    }
   ],
   "source": [
    "## Criando um vetor 3D de 2 camada onde cada camada contem uma matrizes [2,2]\n",
    "v = np.array( [ [ [ 1,2 ], [ 1,2] ] , [ [ 1,2 ],[ 1,2 ]]  ])\n",
    "\n",
    "print(v)\n",
    "print(v.shape,'\\n')"
   ]
  }
 ],
 "metadata": {
  "kernelspec": {
   "display_name": "Python 3",
   "language": "python",
   "name": "python3"
  },
  "language_info": {
   "codemirror_mode": {
    "name": "ipython",
    "version": 3
   },
   "file_extension": ".py",
   "mimetype": "text/x-python",
   "name": "python",
   "nbconvert_exporter": "python",
   "pygments_lexer": "ipython3",
   "version": "3.8.10"
  }
 },
 "nbformat": 4,
 "nbformat_minor": 2
}
