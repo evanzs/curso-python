{
 "cells": [
  {
   "cell_type": "markdown",
   "metadata": {},
   "source": [
    "## Trabalhando com técnicas avançadas de manipulação de Arrays 2D ou Matrizes"
   ]
  },
  {
   "cell_type": "code",
   "execution_count": 2,
   "metadata": {},
   "outputs": [
    {
     "data": {
      "text/plain": [
       "array([[0.71783409, 0.04785513, 0.94447198],\n",
       "       [0.68638004, 0.58120733, 0.14267862],\n",
       "       [0.94591918, 0.33999059, 0.62043546]])"
      ]
     },
     "execution_count": 2,
     "metadata": {},
     "output_type": "execute_result"
    }
   ],
   "source": [
    "import numpy as np \n",
    "\n",
    "np.random.seed(555)\n",
    "\n",
    "## funcao RAND() gera numeros aleatórios entre 0 - 1\n",
    "x = np.random.rand(3,3)\n",
    "x"
   ]
  },
  {
   "cell_type": "code",
   "execution_count": 4,
   "metadata": {},
   "outputs": [
    {
     "data": {
      "text/plain": [
       "array([[1.71783409, 1.04785513, 1.94447198],\n",
       "       [1.68638004, 1.58120733, 1.14267862],\n",
       "       [1.94591918, 1.33999059, 1.62043546]])"
      ]
     },
     "execution_count": 4,
     "metadata": {},
     "output_type": "execute_result"
    }
   ],
   "source": [
    "y = x.copy() + 1\n",
    "y"
   ]
  },
  {
   "cell_type": "code",
   "execution_count": 6,
   "metadata": {},
   "outputs": [
    {
     "data": {
      "text/plain": [
       "array([1.94447198, 1.14267862, 1.62043546])"
      ]
     },
     "execution_count": 6,
     "metadata": {},
     "output_type": "execute_result"
    }
   ],
   "source": [
    "z = y[:,2].copy(); z"
   ]
  },
  {
   "cell_type": "markdown",
   "metadata": {},
   "source": [
    "## criando uma matriz atráves do stackamento de um vetor utilizando VSTACK"
   ]
  },
  {
   "cell_type": "code",
   "execution_count": 12,
   "metadata": {},
   "outputs": [
    {
     "name": "stdout",
     "output_type": "stream",
     "text": [
      "[1.94447198 1.14267862 1.62043546]\n",
      "----------------\n",
      "[[1.94447198 1.14267862 1.62043546]\n",
      " [1.94447198 1.14267862 1.62043546]\n",
      " [1.94447198 1.14267862 1.62043546]\n",
      " [1.94447198 1.14267862 1.62043546]]\n",
      "----------------\n",
      "[[1.94447198 1.14267862 1.62043546]\n",
      " [1.94447198 1.14267862 1.62043546]]\n"
     ]
    }
   ],
   "source": [
    "print(z)\n",
    "print(\"----------------\")\n",
    "print(np.vstack([z,z,z,z])) ## 4 colunas do mesmo vetor Z\n",
    "print(\"----------------\")\n",
    "print(np.vstack([z,z])) ## 4 colunas do mesmo vetor Z"
   ]
  }
 ],
 "metadata": {
  "kernelspec": {
   "display_name": "Python 3",
   "language": "python",
   "name": "python3"
  },
  "language_info": {
   "codemirror_mode": {
    "name": "ipython",
    "version": 3
   },
   "file_extension": ".py",
   "mimetype": "text/x-python",
   "name": "python",
   "nbconvert_exporter": "python",
   "pygments_lexer": "ipython3",
   "version": "3.8.10"
  }
 },
 "nbformat": 4,
 "nbformat_minor": 2
}
