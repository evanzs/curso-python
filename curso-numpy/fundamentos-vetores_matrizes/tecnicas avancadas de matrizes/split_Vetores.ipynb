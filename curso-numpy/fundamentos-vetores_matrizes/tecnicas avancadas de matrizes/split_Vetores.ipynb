{
 "cells": [
  {
   "cell_type": "markdown",
   "metadata": {},
   "source": [
    "## usando a funcao split(x,[index])\n",
    "\n",
    "# onde X = vetor splitado\n",
    "# index = posição que será quebraba\n",
    "\n",
    "# v1, v2 = x.split(x,[index])\n",
    "# v1 = contem todos anteriores ao index\n",
    "# v2 = contem todos depois do index incluindo ele"
   ]
  },
  {
   "cell_type": "code",
   "execution_count": 2,
   "metadata": {},
   "outputs": [
    {
     "data": {
      "text/plain": [
       "array([ 0,  1,  2,  3,  4,  5,  6,  7,  8,  9, 10, 11])"
      ]
     },
     "execution_count": 2,
     "metadata": {},
     "output_type": "execute_result"
    }
   ],
   "source": [
    "import numpy as np \n",
    "\n",
    "x = np.arange(12)\n",
    "x"
   ]
  },
  {
   "cell_type": "markdown",
   "metadata": {},
   "source": [
    "# usando split(x,[index])"
   ]
  },
  {
   "cell_type": "code",
   "execution_count": 3,
   "metadata": {},
   "outputs": [
    {
     "name": "stdout",
     "output_type": "stream",
     "text": [
      "v1:  [0 1 2]\n",
      "\n",
      "v2:  [ 3  4  5  6  7  8  9 10 11]\n"
     ]
    }
   ],
   "source": [
    "v1, v2 = np.split(x,[3])\n",
    "print(\"v1: \", v1)\n",
    "print(\"\")\n",
    "print(\"v2: \", v2)"
   ]
  },
  {
   "cell_type": "markdown",
   "metadata": {},
   "source": [
    "## usando split para quebrar em partes IGUAIS\n",
    "## utilizando .split(x,3)\n",
    "\n",
    "# x = variavel \n",
    "# 3 = numero de partes iguais a quebrar"
   ]
  },
  {
   "cell_type": "code",
   "execution_count": 6,
   "metadata": {},
   "outputs": [
    {
     "ename": "ValueError",
     "evalue": "too many values to unpack (expected 2)",
     "output_type": "error",
     "traceback": [
      "\u001b[0;31m---------------------------------------------------------------------------\u001b[0m",
      "\u001b[0;31mValueError\u001b[0m                                Traceback (most recent call last)",
      "Cell \u001b[0;32mIn[6], line 3\u001b[0m\n\u001b[1;32m      1\u001b[0m \u001b[38;5;66;03m## no exemplo abaixo retornará erro pq estamos divindo em 3 partes iguais porem só temos duas variaveis para armazenar\u001b[39;00m\n\u001b[0;32m----> 3\u001b[0m v_1, v_2 \u001b[38;5;241m=\u001b[39m np\u001b[38;5;241m.\u001b[39msplit(x,\u001b[38;5;241m3\u001b[39m)\n\u001b[1;32m      4\u001b[0m \u001b[38;5;28mprint\u001b[39m(\u001b[38;5;124m\"\u001b[39m\u001b[38;5;124mv1: \u001b[39m\u001b[38;5;124m\"\u001b[39m, v_1)\n\u001b[1;32m      5\u001b[0m \u001b[38;5;28mprint\u001b[39m(\u001b[38;5;124m\"\u001b[39m\u001b[38;5;124m\"\u001b[39m)\n",
      "\u001b[0;31mValueError\u001b[0m: too many values to unpack (expected 2)"
     ]
    }
   ],
   "source": [
    "## no exemplo abaixo retornará erro pq estamos divindo em 3 partes iguais porem só temos duas variaveis para armazenar\n",
    "\n",
    "v_1, v_2 = np.split(x,3)\n",
    "print(\"v1: \", v_1)\n",
    "print(\"\")\n",
    "print(\"v2: \", v_2)"
   ]
  },
  {
   "cell_type": "code",
   "execution_count": 7,
   "metadata": {},
   "outputs": [
    {
     "name": "stdout",
     "output_type": "stream",
     "text": [
      "v1:  [0 1 2 3]\n",
      "\n",
      "v2:  [4 5 6 7]\n",
      "\n",
      "v3:  [ 8  9 10 11]\n"
     ]
    }
   ],
   "source": [
    "\n",
    "v_1, v_2, v_3 = np.split(x,3)\n",
    "print(\"v1: \", v_1)\n",
    "print(\"\")\n",
    "print(\"v2: \", v_2)\n",
    "print(\"\")\n",
    "print(\"v3: \", v_3)"
   ]
  }
 ],
 "metadata": {
  "kernelspec": {
   "display_name": "Python 3",
   "language": "python",
   "name": "python3"
  },
  "language_info": {
   "codemirror_mode": {
    "name": "ipython",
    "version": 3
   },
   "file_extension": ".py",
   "mimetype": "text/x-python",
   "name": "python",
   "nbconvert_exporter": "python",
   "pygments_lexer": "ipython3",
   "version": "3.8.10"
  }
 },
 "nbformat": 4,
 "nbformat_minor": 2
}
