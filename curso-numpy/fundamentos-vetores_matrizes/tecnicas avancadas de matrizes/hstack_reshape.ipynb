{
 "cells": [
  {
   "cell_type": "markdown",
   "metadata": {},
   "source": [
    "## Trabalhando com empilhamento vertical"
   ]
  },
  {
   "cell_type": "code",
   "execution_count": 3,
   "metadata": {},
   "outputs": [
    {
     "data": {
      "text/plain": [
       "(3,)"
      ]
     },
     "execution_count": 3,
     "metadata": {},
     "output_type": "execute_result"
    }
   ],
   "source": [
    "import numpy as np \n",
    "\n",
    "np.random.seed(555)\n",
    "\n",
    "## funcao RAND() gera numeros aleatórios entre 0 - 1\n",
    "x = np.random.rand(3,3)\n",
    "z = x[:,2].copy(); \n",
    "z.shape"
   ]
  },
  {
   "cell_type": "markdown",
   "metadata": {},
   "source": [
    "# note que Z é um vetor de uma dimenssão\n",
    "# para transformar em uma matriz (3,1)\n",
    "\n",
    "## podemos"
   ]
  },
  {
   "cell_type": "code",
   "execution_count": 4,
   "metadata": {},
   "outputs": [
    {
     "name": "stdout",
     "output_type": "stream",
     "text": [
      "Vetor z:  [0.94447198 0.14267862 0.62043546]\n",
      "Transposta de z:  [0.94447198 0.14267862 0.62043546]\n"
     ]
    }
   ],
   "source": [
    "## verificação, não como fazer transposta \n",
    "\n",
    "print(\"Vetor z: \", z)\n",
    "print(\"Transposta de z: \", z.T)\n"
   ]
  },
  {
   "cell_type": "markdown",
   "metadata": {},
   "source": [
    "## RESHAPE"
   ]
  },
  {
   "cell_type": "code",
   "execution_count": 14,
   "metadata": {},
   "outputs": [
    {
     "name": "stdout",
     "output_type": "stream",
     "text": [
      "z1: [[0.94447198]\n",
      " [0.14267862]\n",
      " [0.62043546]]\n",
      "z1 shape: (3, 1)\n"
     ]
    }
   ],
   "source": [
    "##trabalhando com reshape\n",
    "z1 = np.reshape(z,(3,1))\n",
    "print(\"z1:\", z1)\n",
    "\n",
    "print(\"z1 shape:\", z1.shape)"
   ]
  },
  {
   "cell_type": "markdown",
   "metadata": {},
   "source": [
    "## HSTACK"
   ]
  },
  {
   "cell_type": "code",
   "execution_count": 15,
   "metadata": {},
   "outputs": [
    {
     "name": "stdout",
     "output_type": "stream",
     "text": [
      "z1: [[0.94447198 0.94447198 0.94447198]\n",
      " [0.14267862 0.14267862 0.14267862]\n",
      " [0.62043546 0.62043546 0.62043546]]\n",
      "z1 shape: (3, 3)\n"
     ]
    }
   ],
   "source": [
    "##trabalhando com reshape\n",
    "z1 = np.hstack([z1,z1,z1])\n",
    "print(\"z1:\", z1)\n",
    "\n",
    "print(\"z1 shape:\", z1.shape)"
   ]
  }
 ],
 "metadata": {
  "kernelspec": {
   "display_name": "Python 3",
   "language": "python",
   "name": "python3"
  },
  "language_info": {
   "codemirror_mode": {
    "name": "ipython",
    "version": 3
   },
   "file_extension": ".py",
   "mimetype": "text/x-python",
   "name": "python",
   "nbconvert_exporter": "python",
   "pygments_lexer": "ipython3",
   "version": "3.8.10"
  }
 },
 "nbformat": 4,
 "nbformat_minor": 2
}
