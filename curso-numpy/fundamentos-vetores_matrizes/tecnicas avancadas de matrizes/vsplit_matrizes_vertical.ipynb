{
 "cells": [
  {
   "cell_type": "markdown",
   "metadata": {},
   "source": [
    "## utilizando vsplit para splitar a matrizes verticalmente;\n",
    "\n",
    "# para vsplit(x,[i])\n",
    "x = matriz splitada\n",
    "i = indice da linha \n",
    "\n",
    "tudo que tiver antes do i será uma matriz exceto a linha i\n",
    "e tudo que tiver abaixo e a linha i será outra matriz, isso para dividir metade\n"
   ]
  },
  {
   "cell_type": "code",
   "execution_count": 1,
   "metadata": {},
   "outputs": [
    {
     "data": {
      "text/plain": [
       "array([[ 0,  1,  2,  3,  4,  5],\n",
       "       [ 6,  7,  8,  9, 10, 11],\n",
       "       [12, 13, 14, 15, 16, 17],\n",
       "       [18, 19, 20, 21, 22, 23]])"
      ]
     },
     "execution_count": 1,
     "metadata": {},
     "output_type": "execute_result"
    }
   ],
   "source": [
    "import numpy as np \n",
    "\n",
    "x = np.arange(24).reshape(4,6) ## 4*6 = 24\n",
    "x"
   ]
  },
  {
   "cell_type": "code",
   "execution_count": 3,
   "metadata": {},
   "outputs": [
    {
     "name": "stdout",
     "output_type": "stream",
     "text": [
      "[[ 0  1  2  3  4  5]\n",
      " [ 6  7  8  9 10 11]] \n",
      "\n",
      "[[12 13 14 15 16 17]\n",
      " [18 19 20 21 22 23]] \n",
      "\n"
     ]
    }
   ],
   "source": [
    "x1 ,x2 = np.vsplit(x,[2])\n",
    "print(x1,'\\n')\n",
    "print(x2,'\\n')"
   ]
  },
  {
   "cell_type": "markdown",
   "metadata": {},
   "source": [
    "## também podemos dividir em partes iguais usando a sintaxe\n",
    "# split(x,4) para dividir em 4 partes iguais;"
   ]
  },
  {
   "cell_type": "code",
   "execution_count": 4,
   "metadata": {},
   "outputs": [
    {
     "name": "stdout",
     "output_type": "stream",
     "text": [
      "[[0 1 2 3 4 5]] \n",
      "\n",
      "[[ 6  7  8  9 10 11]] \n",
      "\n",
      "[[12 13 14 15 16 17]] \n",
      "\n",
      "[[18 19 20 21 22 23]] \n",
      "\n"
     ]
    }
   ],
   "source": [
    "x1 ,x2,x3,x4 = np.vsplit(x,4)\n",
    "print(x1,'\\n')\n",
    "print(x2,'\\n')\n",
    "print(x3,'\\n')\n",
    "print(x4,'\\n')"
   ]
  }
 ],
 "metadata": {
  "kernelspec": {
   "display_name": "Python 3",
   "language": "python",
   "name": "python3"
  },
  "language_info": {
   "codemirror_mode": {
    "name": "ipython",
    "version": 3
   },
   "file_extension": ".py",
   "mimetype": "text/x-python",
   "name": "python",
   "nbconvert_exporter": "python",
   "pygments_lexer": "ipython3",
   "version": "3.8.10"
  }
 },
 "nbformat": 4,
 "nbformat_minor": 2
}
