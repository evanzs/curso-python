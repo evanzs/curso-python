{
 "cells": [
  {
   "cell_type": "markdown",
   "metadata": {},
   "source": [
    "# Avaliações bool Basicas\n",
    "\n",
    "trabalhando com avaliações e arrays do tipo bool"
   ]
  },
  {
   "cell_type": "code",
   "execution_count": 4,
   "metadata": {},
   "outputs": [],
   "source": [
    "import numpy as np"
   ]
  },
  {
   "cell_type": "code",
   "execution_count": 11,
   "metadata": {},
   "outputs": [],
   "source": [
    "\n",
    "x = np.array([1,2,1,4,3,5,2,7,8,9,10])\n",
    "y = np.array([1,2,1,4,3,5,2,7,8,9,10])\n",
    "z = np.array([1,2,4,4,3,5,2,7,8,9,10])\n",
    "w = np.array([11,12,14,14,13,15,12,17,18,19,110])"
   ]
  },
  {
   "cell_type": "code",
   "execution_count": 12,
   "metadata": {},
   "outputs": [
    {
     "name": "stdout",
     "output_type": "stream",
     "text": [
      "All\n",
      "comparando x e y True\n",
      "comparando x e z False\n",
      "comparando x e w False\n",
      "\n",
      "\n",
      "Any\n",
      "comparando x e y True\n",
      "comparando x e z True\n",
      "comparando x e z False\n"
     ]
    }
   ],
   "source": [
    "# usando all, veririca todos os valores\n",
    "print(\"All\")\n",
    "print(\"comparando x e y\",np.all(x == y))\n",
    "print(\"comparando x e z\",np.all(x == z))\n",
    "print(\"comparando x e w\",np.all(x == w))\n",
    "\n",
    "\n",
    "# usando any, verifica se pelo menos um é igual\n",
    "print(\"\\n\")\n",
    "print(\"Any\")\n",
    "print(\"comparando x e y\",np.any(x == y))\n",
    "print(\"comparando x e z\",np.any(x == z))\n",
    "print(\"comparando x e w\",np.any(x == w))"
   ]
  },
  {
   "cell_type": "code",
   "execution_count": null,
   "metadata": {},
   "outputs": [],
   "source": []
  },
  {
   "cell_type": "code",
   "execution_count": null,
   "metadata": {},
   "outputs": [],
   "source": []
  },
  {
   "cell_type": "code",
   "execution_count": 7,
   "metadata": {},
   "outputs": [
    {
     "data": {
      "text/plain": [
       "array([1, 4, 2, 9])"
      ]
     },
     "execution_count": 7,
     "metadata": {},
     "output_type": "execute_result"
    }
   ],
   "source": [
    "x[0:10:3] # start:end:step"
   ]
  }
 ],
 "metadata": {
  "kernelspec": {
   "display_name": "Python 3",
   "language": "python",
   "name": "python3"
  },
  "language_info": {
   "codemirror_mode": {
    "name": "ipython",
    "version": 3
   },
   "file_extension": ".py",
   "mimetype": "text/x-python",
   "name": "python",
   "nbconvert_exporter": "python",
   "pygments_lexer": "ipython3",
   "version": "3.8.10"
  },
  "orig_nbformat": 4
 },
 "nbformat": 4,
 "nbformat_minor": 2
}
