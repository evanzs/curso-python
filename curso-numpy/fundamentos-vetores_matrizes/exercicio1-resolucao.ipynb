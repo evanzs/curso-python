{
 "cells": [
  {
   "cell_type": "markdown",
   "metadata": {},
   "source": [
    "# Exercicio 1 - avaliar a igualdade de vetores e seus elementos\n",
    "\n",
    "\n",
    "- A partir de dois vetores x e y \n",
    "- construir uma função para avaliar a igualdade\n",
    "- apresentar os elementos iguais dos vetores\n",
    "- apresentar os indices onde os alementos são iguais nos dois vetores\n",
    "\n"
   ]
  },
  {
   "cell_type": "code",
   "execution_count": 2,
   "metadata": {},
   "outputs": [],
   "source": [
    "import numpy as np"
   ]
  },
  {
   "cell_type": "code",
   "execution_count": 3,
   "metadata": {},
   "outputs": [],
   "source": [
    "x = np.array([1.2,2,1,4,3,5.5,2,7,8,9,10])\n",
    "y = np.array([1,2,1.3,4,3,5,2,7,8,9,10])"
   ]
  },
  {
   "cell_type": "code",
   "execution_count": 6,
   "metadata": {},
   "outputs": [
    {
     "name": "stdout",
     "output_type": "stream",
     "text": [
      "[False  True False  True  True False  True  True  True  True  True]\n"
     ]
    }
   ],
   "source": [
    "cmp  = x == y\n",
    "print(cmp)"
   ]
  },
  {
   "cell_type": "code",
   "execution_count": 14,
   "metadata": {},
   "outputs": [
    {
     "name": "stdout",
     "output_type": "stream",
     "text": [
      "(array([ 1,  3,  4,  6,  7,  8,  9, 10]),)\n"
     ]
    }
   ],
   "source": [
    "\n",
    "print(np.where(y==x))"
   ]
  },
  {
   "cell_type": "code",
   "execution_count": 5,
   "metadata": {},
   "outputs": [
    {
     "name": "stdout",
     "output_type": "stream",
     "text": [
      "Alguns valores são iguais.\n",
      "2.0\n",
      "4.0\n",
      "3.0\n",
      "2.0\n",
      "7.0\n",
      "8.0\n",
      "9.0\n",
      "10.0\n",
      "------------\n",
      "(array([], dtype=int64),)\n",
      "(array([1, 6]),)\n",
      "[2. 2.]\n",
      "(array([0]),)\n",
      "[1.]\n",
      "(array([3]),)\n",
      "[4.]\n",
      "(array([4]),)\n",
      "[3.]\n",
      "(array([], dtype=int64),)\n",
      "(array([1, 6]),)\n",
      "[2. 2.]\n",
      "(array([7]),)\n",
      "[7.]\n",
      "(array([8]),)\n",
      "[8.]\n",
      "(array([9]),)\n",
      "[9.]\n",
      "(array([10]),)\n",
      "[10.]\n"
     ]
    }
   ],
   "source": [
    "i = 0\n",
    "\n",
    "if(cmp.all()):\n",
    "    print(\"Todos os valores são iguais.\")\n",
    "elif(cmp.any()):\n",
    "    print(\"Alguns valores são iguais.\")\n",
    "\n",
    "    for e in cmp:\n",
    "        if(e):\n",
    "            print(\"%.1f\"% y[i])\n",
    "        i += 1\n",
    "    \n",
    "    print('------------')\n",
    "\n",
    "    for e in x:\n",
    "        j = np.where( e == y) # indexação igual\n",
    "        print(j)\n",
    "        if (j[0].size != 0):\n",
    "            print(y[j])\n",
    "else:\n",
    "    print(\"Todos os elementos são diferentes\")\n",
    "\n",
    "\n",
    "\n"
   ]
  }
 ],
 "metadata": {
  "kernelspec": {
   "display_name": "Python 3",
   "language": "python",
   "name": "python3"
  },
  "language_info": {
   "codemirror_mode": {
    "name": "ipython",
    "version": 3
   },
   "file_extension": ".py",
   "mimetype": "text/x-python",
   "name": "python",
   "nbconvert_exporter": "python",
   "pygments_lexer": "ipython3",
   "version": "3.8.10"
  },
  "orig_nbformat": 4
 },
 "nbformat": 4,
 "nbformat_minor": 2
}
