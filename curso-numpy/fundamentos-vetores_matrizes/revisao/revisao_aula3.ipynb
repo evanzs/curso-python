{
 "cells": [
  {
   "cell_type": "code",
   "execution_count": null,
   "metadata": {},
   "outputs": [],
   "source": [
    "## AULA 3  INDEXACAO DE ARRAYS\n",
    "\n",
    "# indexing e slicing"
   ]
  },
  {
   "cell_type": "code",
   "execution_count": 1,
   "metadata": {},
   "outputs": [],
   "source": [
    "import numpy as np"
   ]
  },
  {
   "cell_type": "code",
   "execution_count": 2,
   "metadata": {},
   "outputs": [],
   "source": [
    "x = np.array([1.2,2.3,3.4,4.4,5.5,6.6]) \n"
   ]
  },
  {
   "cell_type": "code",
   "execution_count": 9,
   "metadata": {},
   "outputs": [
    {
     "name": "stdout",
     "output_type": "stream",
     "text": [
      "ultimos elementos\n",
      "B 6.6\n",
      "c 6.6\n",
      "trabalhando com intervalos\n",
      "[1.2 2.3 3.4 4.4 5.5 6.6]\n",
      "[2.3 3.4]\n",
      "[5.5 6.6]\n"
     ]
    }
   ],
   "source": [
    "#FATIAMENTO\n",
    "a = x[0]\n",
    "\n",
    "#ultimo elemento\n",
    "b  = x[5]\n",
    "c =  x[-1]\n",
    "\n",
    "print(\"ultimos elementos\")\n",
    "print(\"B\",b)\n",
    "print(\"c\",c)\n",
    "\n",
    "\n",
    "print(\"trabalhando com intervalos\")\n",
    "print(x)\n",
    "print(x[1:3])\n",
    "\n",
    "\n",
    "print(\"dois ultimos elementos\", x[-2:])\n",
    "print(x[-2:])\n",
    "\n",
    "\n",
    "\n",
    "\n"
   ]
  },
  {
   "cell_type": "code",
   "execution_count": 13,
   "metadata": {},
   "outputs": [
    {
     "name": "stdout",
     "output_type": "stream",
     "text": [
      "[3.4] 3.4\n",
      "[ True]\n",
      "[ True]\n"
     ]
    }
   ],
   "source": [
    "t1 = x[2:3] ## retorno é um array\n",
    "t2 = x[2] ## retorno é um numero\n",
    "print(t1,t2)\n",
    "\n",
    "print(t1 == t2)\n",
    "print(t2 == t1)"
   ]
  },
  {
   "cell_type": "markdown",
   "metadata": {},
   "source": [
    "## slicing "
   ]
  },
  {
   "cell_type": "code",
   "execution_count": 16,
   "metadata": {},
   "outputs": [],
   "source": [
    "\n",
    "m = np.array([1,2,3,4,5,6,7,8,9,10]) "
   ]
  },
  {
   "cell_type": "code",
   "execution_count": 18,
   "metadata": {},
   "outputs": [
    {
     "name": "stdout",
     "output_type": "stream",
     "text": [
      "do inicio ao 10 saltando de 3 em 3  [ 1  4  7 10]\n"
     ]
    }
   ],
   "source": [
    "\n",
    "print(\"do inicio ao 10 saltando de 3 em 3 \",m[0:10:3])"
   ]
  },
  {
   "cell_type": "markdown",
   "metadata": {},
   "source": [
    "## avaliacoes booleanas"
   ]
  },
  {
   "cell_type": "code",
   "execution_count": 27,
   "metadata": {},
   "outputs": [
    {
     "name": "stdout",
     "output_type": "stream",
     "text": [
      "compimrneto m  10\n",
      "compimrneto z  10\n",
      "comparacao [ True  True  True  True  True  True  True  True  True  True]\n",
      " se todos os vetores são iguais o len == cmp.sum\n",
      "tamanho do vetor 10\n",
      "comparacao 10\n"
     ]
    }
   ],
   "source": [
    "m = np.array([1,2,3,4,5,6,7,8,9,10]) \n",
    "z = np.array([1,2,3,4,5,6,7,8,9,10]) \n",
    "\n",
    "print(\"compimrneto m \",len(m))\n",
    "print(\"compimrneto z \",len(m))\n",
    "\n",
    "\n",
    "cmp = m == z\n",
    "print(\"comparacao\", cmp)\n",
    "\n",
    "## true = 1 \n",
    "## false = 0\n",
    "\n",
    "print(\" se todos os vetores são iguais o len == cmp.sum\")\n",
    "print(\"tamanho do vetor\",len(m))\n",
    "print(\"comparacao\", cmp.sum())"
   ]
  },
  {
   "cell_type": "code",
   "execution_count": 28,
   "metadata": {},
   "outputs": [
    {
     "name": "stderr",
     "output_type": "stream",
     "text": [
      "/tmp/ipykernel_21685/2175569017.py:3: DeprecationWarning: elementwise comparison failed; this will raise an error in the future.\n",
      "  cmp = u == z\n"
     ]
    }
   ],
   "source": [
    "## erro com comparacao de tamanho diferente\n",
    "u = np.array([1,2,3,4,5,6,7,8,9]) \n",
    "cmp = u == z"
   ]
  }
 ],
 "metadata": {
  "kernelspec": {
   "display_name": "Python 3",
   "language": "python",
   "name": "python3"
  },
  "language_info": {
   "codemirror_mode": {
    "name": "ipython",
    "version": 3
   },
   "file_extension": ".py",
   "mimetype": "text/x-python",
   "name": "python",
   "nbconvert_exporter": "python",
   "pygments_lexer": "ipython3",
   "version": "3.8.10"
  }
 },
 "nbformat": 4,
 "nbformat_minor": 2
}
