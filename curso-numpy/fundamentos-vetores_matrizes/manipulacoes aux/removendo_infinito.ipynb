{
 "cells": [
  {
   "cell_type": "markdown",
   "metadata": {},
   "source": [
    "#criando funcao para remover infinito e definindo posicao"
   ]
  },
  {
   "cell_type": "code",
   "execution_count": 3,
   "metadata": {},
   "outputs": [
    {
     "name": "stderr",
     "output_type": "stream",
     "text": [
      "/tmp/ipykernel_59658/2959122870.py:4: RuntimeWarning: divide by zero encountered in divide\n",
      "  r = a/b\n"
     ]
    },
    {
     "data": {
      "text/plain": [
       "array([ 1.,  1.,  1., inf,  1.])"
      ]
     },
     "execution_count": 3,
     "metadata": {},
     "output_type": "execute_result"
    }
   ],
   "source": [
    "import numpy as np\n",
    "a = np.array([1,2,3,4,5])\n",
    "b = np.array([1,2,3,0,5])\n",
    "r = a/b\n",
    "r"
   ]
  },
  {
   "cell_type": "code",
   "execution_count": 4,
   "metadata": {},
   "outputs": [],
   "source": [
    "def remove_inf_pos(x):\n",
    "    pi = np.where( x == np.inf) ## indices dos infinitos\n",
    "    i = np.where( x != np.inf) ## indices dos não infinitos\n",
    "    return x[i],pi"
   ]
  },
  {
   "cell_type": "code",
   "execution_count": 5,
   "metadata": {},
   "outputs": [
    {
     "data": {
      "text/plain": [
       "(array([1., 1., 1., 1.]), (array([3]),))"
      ]
     },
     "execution_count": 5,
     "metadata": {},
     "output_type": "execute_result"
    }
   ],
   "source": [
    "remove_inf_pos(r) ## retorna duas tupla de acordo com os retornos\n"
   ]
  },
  {
   "cell_type": "markdown",
   "metadata": {},
   "source": [
    "# (array([1., 1., 1., 1.]), (array([3]),))\n",
    "\n",
    "# o retorno como todo é uma tupla (array([1., 1., 1., 1.]), (array([3]),))\n",
    "# dentro dela temos uma  array([1., 1., 1., 1.]) como primeiro elemento\n",
    "# temos uma tupla como segundo elemento (array([3]),) e dentro dela um array como elemento\n",
    "\n"
   ]
  },
  {
   "cell_type": "code",
   "execution_count": 8,
   "metadata": {},
   "outputs": [
    {
     "name": "stdout",
     "output_type": "stream",
     "text": [
      "[1. 1. 1. 1.]\n",
      "(array([3]),)\n",
      "-----------\n",
      "aceesando elemento da tupla\n"
     ]
    },
    {
     "data": {
      "text/plain": [
       "array([3])"
      ]
     },
     "execution_count": 8,
     "metadata": {},
     "output_type": "execute_result"
    }
   ],
   "source": [
    "c1,pinf = remove_inf_pos(r)  ##dividindo\n",
    "\n",
    "print(c1)\n",
    "print(pinf)\n",
    "\n",
    "print('-----------')\n",
    "print('aceesando elemento da tupla')\n",
    "pinf[0]"
   ]
  }
 ],
 "metadata": {
  "kernelspec": {
   "display_name": "Python 3",
   "language": "python",
   "name": "python3"
  },
  "language_info": {
   "codemirror_mode": {
    "name": "ipython",
    "version": 3
   },
   "file_extension": ".py",
   "mimetype": "text/x-python",
   "name": "python",
   "nbconvert_exporter": "python",
   "pygments_lexer": "ipython3",
   "version": "3.8.10"
  }
 },
 "nbformat": 4,
 "nbformat_minor": 2
}
