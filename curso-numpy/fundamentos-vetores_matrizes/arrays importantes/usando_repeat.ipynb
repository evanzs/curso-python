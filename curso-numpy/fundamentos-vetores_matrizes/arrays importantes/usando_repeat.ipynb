{
 "cells": [
  {
   "cell_type": "markdown",
   "metadata": {},
   "source": [
    "## usando metodos repeat() e full()"
   ]
  },
  {
   "cell_type": "code",
   "execution_count": 1,
   "metadata": {},
   "outputs": [],
   "source": [
    "import numpy as np \n",
    "\n",
    "x = np.array([0,1,2,-4,-3,-2,-1,3,4,5])"
   ]
  },
  {
   "cell_type": "code",
   "execution_count": 4,
   "metadata": {},
   "outputs": [
    {
     "name": "stdout",
     "output_type": "stream",
     "text": [
      "[0]\n"
     ]
    },
    {
     "data": {
      "text/plain": [
       "array([0, 0, 0, 0, 0, 0, 0, 0, 0, 0, 0, 0, 0, 0, 0, 0, 0, 0, 0, 0])"
      ]
     },
     "execution_count": 4,
     "metadata": {},
     "output_type": "execute_result"
    }
   ],
   "source": [
    "h = np.array([0])\n",
    "print(h)\n",
    "\n",
    "h.repeat(20)"
   ]
  },
  {
   "cell_type": "markdown",
   "metadata": {},
   "source": [
    "## utilizando a funcao .full() \n",
    "\n",
    "# muito uteis em arrays de multiplas dimenssoes"
   ]
  },
  {
   "cell_type": "code",
   "execution_count": 13,
   "metadata": {},
   "outputs": [
    {
     "data": {
      "text/plain": [
       "array([[7, 7, 7, 7, 7, 7, 7, 7, 7]])"
      ]
     },
     "execution_count": 13,
     "metadata": {},
     "output_type": "execute_result"
    }
   ],
   "source": [
    "z = np.array([0,1,2,-4,-3,-2,-1,3,4,5])\n",
    "\n",
    "\n",
    "#preenchendo do 1 ao 9 de numeros 7\n",
    "q = np.full((1,9),7)\n",
    "\n",
    "q"
   ]
  },
  {
   "cell_type": "code",
   "execution_count": 14,
   "metadata": {},
   "outputs": [
    {
     "name": "stdout",
     "output_type": "stream",
     "text": [
      "[7. 7. 7. 7. 7. 7. 7. 7. 7.]\n",
      "int64\n",
      "int64\n"
     ]
    }
   ],
   "source": [
    "u = np.ones(9)*7\n",
    "print(u)\n",
    "\n",
    "print(q.dtype)\n",
    "print(z.dtype)"
   ]
  },
  {
   "cell_type": "markdown",
   "metadata": {},
   "source": [
    "## funcao .full possibilita a expansão do vetor\n",
    "\n",
    "# por isso  [[ ]] ou array([[7, 7, 7, 7, 7, 7, 7, 7, 7]]) \n",
    "# diferente de [7. 7. 7. 7. 7. 7. 7. 7. 7.]\n",
    "# além de um ser inteiro e outro float\n"
   ]
  },
  {
   "cell_type": "code",
   "execution_count": 16,
   "metadata": {},
   "outputs": [
    {
     "name": "stdout",
     "output_type": "stream",
     "text": [
      "shape u:  (9,)\n",
      "shape q (1, 9)\n"
     ]
    }
   ],
   "source": [
    "print(\"shape u: \", u.shape) # um linha com nome elementos\n",
    "print(\"shape q\", q.shape)# uma linha com 9 colunas "
   ]
  },
  {
   "cell_type": "code",
   "execution_count": 19,
   "metadata": {},
   "outputs": [
    {
     "name": "stdout",
     "output_type": "stream",
     "text": [
      "[[7 7 7 7 7 7 7 7 7]\n",
      " [7 7 7 7 7 7 7 7 7]]\n",
      "(2, 9)\n"
     ]
    }
   ],
   "source": [
    "q2 = np.full((2,9),7)\n",
    "\n",
    "print(q2)\n",
    "print(q2.shape)"
   ]
  }
 ],
 "metadata": {
  "kernelspec": {
   "display_name": "Python 3",
   "language": "python",
   "name": "python3"
  },
  "language_info": {
   "codemirror_mode": {
    "name": "ipython",
    "version": 3
   },
   "file_extension": ".py",
   "mimetype": "text/x-python",
   "name": "python",
   "nbconvert_exporter": "python",
   "pygments_lexer": "ipython3",
   "version": "3.8.10"
  }
 },
 "nbformat": 4,
 "nbformat_minor": 2
}
