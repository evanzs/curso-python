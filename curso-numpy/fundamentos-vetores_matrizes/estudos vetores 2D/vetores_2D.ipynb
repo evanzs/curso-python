{
 "cells": [
  {
   "cell_type": "markdown",
   "metadata": {},
   "source": [
    "## trabalhando com vetores 2D"
   ]
  },
  {
   "cell_type": "markdown",
   "metadata": {},
   "source": []
  },
  {
   "cell_type": "code",
   "execution_count": 3,
   "metadata": {},
   "outputs": [
    {
     "data": {
      "text/plain": [
       "array([[1, 2, 3, 4],\n",
       "       [5, 6, 7, 8]])"
      ]
     },
     "execution_count": 3,
     "metadata": {},
     "output_type": "execute_result"
    }
   ],
   "source": [
    "import numpy as np\n",
    "\n",
    "#representando vetor 2D\n",
    "x = np.array([[1,2,3,4],[5,6,7,8]])\n",
    "x"
   ]
  },
  {
   "cell_type": "code",
   "execution_count": 4,
   "metadata": {},
   "outputs": [
    {
     "data": {
      "text/plain": [
       "array([[1, 5],\n",
       "       [2, 6],\n",
       "       [3, 7],\n",
       "       [4, 8]])"
      ]
     },
     "execution_count": 4,
     "metadata": {},
     "output_type": "execute_result"
    }
   ],
   "source": [
    "##representando a transposta\n",
    "x.T"
   ]
  },
  {
   "cell_type": "markdown",
   "metadata": {},
   "source": [
    "## modificando valores de matrizes"
   ]
  },
  {
   "cell_type": "code",
   "execution_count": 5,
   "metadata": {},
   "outputs": [],
   "source": [
    "y = x.T"
   ]
  },
  {
   "cell_type": "markdown",
   "metadata": {},
   "source": [
    "## Utilizando slice para modificar vetores\n",
    "\n",
    "## utilizando broadcasting em numpy, qunado um valor é propagado para outro"
   ]
  },
  {
   "cell_type": "code",
   "execution_count": 13,
   "metadata": {},
   "outputs": [
    {
     "name": "stdout",
     "output_type": "stream",
     "text": [
      "shape:  (4, 2)\n",
      "----------------------\n",
      "Matriz y: [[ 1  5]\n",
      " [ 2  6]\n",
      " [ 3  7]\n",
      " [ 4 10]]\n",
      "----------------------\n",
      "Matriz x: [[ 1  2  3  4]\n",
      " [ 5  6  7 10]]\n"
     ]
    }
   ],
   "source": [
    "## modificando o valhor 8 da matriz para 10\n",
    "## posicao linha 4, coluna 2\n",
    "y = x.T\n",
    "\n",
    "print(\"shape: \",y.shape)\n",
    "print(\"----------------------\")\n",
    "\n",
    "y[3,1]= 10\n",
    "print(\"Matriz y:\",y)\n",
    "print(\"----------------------\")\n",
    "print(\"Matriz x:\",x)\n",
    "\n",
    "#note que alterando o valor de y também alteramos os valores de x "
   ]
  },
  {
   "cell_type": "markdown",
   "metadata": {},
   "source": [
    "## resolvendo problema de broadcasting"
   ]
  }
 ],
 "metadata": {
  "kernelspec": {
   "display_name": "Python 3",
   "language": "python",
   "name": "python3"
  },
  "language_info": {
   "codemirror_mode": {
    "name": "ipython",
    "version": 3
   },
   "file_extension": ".py",
   "mimetype": "text/x-python",
   "name": "python",
   "nbconvert_exporter": "python",
   "pygments_lexer": "ipython3",
   "version": "3.8.10"
  }
 },
 "nbformat": 4,
 "nbformat_minor": 2
}
