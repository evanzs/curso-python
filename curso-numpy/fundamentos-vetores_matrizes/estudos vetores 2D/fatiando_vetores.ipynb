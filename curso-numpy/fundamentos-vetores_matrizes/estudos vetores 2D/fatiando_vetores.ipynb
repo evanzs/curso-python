{
 "cells": [
  {
   "cell_type": "markdown",
   "metadata": {},
   "source": [
    "##Fatiando vetores"
   ]
  },
  {
   "cell_type": "markdown",
   "metadata": {},
   "source": [
    "#utilizando list comprehension para criar matrizes\n"
   ]
  },
  {
   "cell_type": "code",
   "execution_count": 1,
   "metadata": {},
   "outputs": [],
   "source": [
    "import numpy as np"
   ]
  },
  {
   "cell_type": "code",
   "execution_count": 10,
   "metadata": {},
   "outputs": [
    {
     "data": {
      "text/plain": [
       "[range(0, 5), range(1, 6), range(2, 7), range(3, 8)]"
      ]
     },
     "execution_count": 10,
     "metadata": {},
     "output_type": "execute_result"
    }
   ],
   "source": [
    "vetor = [1,2,3,4]\n",
    "list = [range(i - 1,i+4) for i in vetor]\n",
    "\n",
    "# liste é um array de ranges seguindo a logica acima\n",
    "# cada range desse irá criar uma linha\n",
    "list"
   ]
  },
  {
   "cell_type": "code",
   "execution_count": 14,
   "metadata": {},
   "outputs": [
    {
     "name": "stdout",
     "output_type": "stream",
     "text": [
      "[[0 1 2 3 4]\n",
      " [1 2 3 4 5]\n",
      " [2 3 4 5 6]\n",
      " [3 4 5 6 7]]\n",
      "------------------------\n",
      "[[0 1 2 3 4]\n",
      " [1 2 3 4 5]\n",
      " [2 3 4 5 6]\n",
      " [3 4 5 6 7]]\n",
      "------------------------\n",
      "shape:  (4, 5)\n"
     ]
    }
   ],
   "source": [
    "\n",
    "##dois jeitos são possiveis \n",
    "x = np.array(list)\n",
    "print(x)\n",
    "print(\"------------------------\")\n",
    "\n",
    "\n",
    "x = np.array([range(i - 1,i+4) for i in vetor])\n",
    "print(x)\n",
    "print(\"------------------------\")\n",
    "print(\"shape: \", x.shape)"
   ]
  },
  {
   "cell_type": "markdown",
   "metadata": {},
   "source": [
    "## utilizando conceitos de slicing"
   ]
  },
  {
   "cell_type": "code",
   "execution_count": 20,
   "metadata": {},
   "outputs": [
    {
     "name": "stdout",
     "output_type": "stream",
     "text": [
      "[1 2 3 4 5]\n",
      "#coletando a linha 3:  [2 3 4 5 6]\n",
      "#coletando a coluna 3:  [2 3 4 5]\n",
      "------------------------\n",
      "tudo que tem depois da linha 3 e tudo que tem depois da coluna 3\n",
      "sub matriz de x:  [[5 6]\n",
      " [6 7]]\n"
     ]
    }
   ],
   "source": [
    "#coletando a linha 1\n",
    "print(x[1,:])\n",
    "\n",
    "\n",
    "print(\"#coletando a linha 3: \",x[2,:])\n",
    "print(\"#coletando a coluna 3: \",x[:,2])\n",
    "\n",
    "##criando subMatrzies\n",
    "print(\"------------------------\")\n",
    "print(\"tudo que tem depois da linha 3 e tudo que tem depois da coluna 4\")\n",
    "print(\"sub matriz de x: \",x[2:,3:])"
   ]
  }
 ],
 "metadata": {
  "kernelspec": {
   "display_name": "Python 3",
   "language": "python",
   "name": "python3"
  },
  "language_info": {
   "codemirror_mode": {
    "name": "ipython",
    "version": 3
   },
   "file_extension": ".py",
   "mimetype": "text/x-python",
   "name": "python",
   "nbconvert_exporter": "python",
   "pygments_lexer": "ipython3",
   "version": "3.8.10"
  }
 },
 "nbformat": 4,
 "nbformat_minor": 2
}
