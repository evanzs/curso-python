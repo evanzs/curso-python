{
 "cells": [
  {
   "cell_type": "markdown",
   "metadata": {},
   "source": [
    "## Trabalhando com transformações de Array 3D"
   ]
  },
  {
   "cell_type": "code",
   "execution_count": 1,
   "metadata": {},
   "outputs": [
    {
     "name": "stdout",
     "output_type": "stream",
     "text": [
      "[[[57 59 30]\n",
      "  [ 9 96 51]\n",
      "  [93 40 41]]\n",
      "\n",
      " [[65 63 71]\n",
      "  [13 54 75]\n",
      "  [32 81 35]]\n",
      "\n",
      " [[26 35 54]\n",
      "  [65 31 34]\n",
      "  [50 48 54]]]\n"
     ]
    }
   ],
   "source": [
    "import numpy as np\n",
    "x = np.random.randint(100,size=(9,3)).reshape(3,3,3)\n",
    "print(x)\n"
   ]
  },
  {
   "cell_type": "code",
   "execution_count": 4,
   "metadata": {},
   "outputs": [
    {
     "name": "stdout",
     "output_type": "stream",
     "text": [
      "[[57 59 30]\n",
      " [ 9 96 51]\n",
      " [93 40 41]\n",
      " [65 63 71]\n",
      " [13 54 75]\n",
      " [32 81 35]\n",
      " [26 35 54]\n",
      " [65 31 34]\n",
      " [50 48 54]]\n"
     ]
    }
   ],
   "source": [
    "#utilizando reshape 3 * 3 * 3 = 27\n",
    "# temos então reshape ṕara -> 2D que precisa  dar 27\n",
    "\n",
    "x1 = x.reshape(9,3)\n",
    "print(x1)"
   ]
  },
  {
   "cell_type": "code",
   "execution_count": 6,
   "metadata": {},
   "outputs": [
    {
     "data": {
      "text/plain": [
       "array([[57, 59, 30],\n",
       "       [ 9, 96, 51],\n",
       "       [93, 40, 41],\n",
       "       [65, 63, 71],\n",
       "       [13, 54, 75],\n",
       "       [32, 81, 35],\n",
       "       [26, 35, 54],\n",
       "       [65, 31, 34],\n",
       "       [50, 48, 54]])"
      ]
     },
     "execution_count": 6,
     "metadata": {},
     "output_type": "execute_result"
    }
   ],
   "source": [
    "x2 = np.reshape(x, (9,3))\n",
    "x2"
   ]
  }
 ],
 "metadata": {
  "kernelspec": {
   "display_name": "Python 3",
   "language": "python",
   "name": "python3"
  },
  "language_info": {
   "codemirror_mode": {
    "name": "ipython",
    "version": 3
   },
   "file_extension": ".py",
   "mimetype": "text/x-python",
   "name": "python",
   "nbconvert_exporter": "python",
   "pygments_lexer": "ipython3",
   "version": "3.8.10"
  }
 },
 "nbformat": 4,
 "nbformat_minor": 2
}
