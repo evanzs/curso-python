{
 "cells": [
  {
   "cell_type": "markdown",
   "metadata": {},
   "source": [
    "## Somatório e tipos de somátorios entre os membros"
   ]
  },
  {
   "cell_type": "code",
   "execution_count": 1,
   "metadata": {},
   "outputs": [
    {
     "name": "stdout",
     "output_type": "stream",
     "text": [
      "[[[ 3 29 94]\n",
      "  [34 97 70]\n",
      "  [13 25 82]]\n",
      "\n",
      " [[58 58 20]\n",
      "  [11 90 38]\n",
      "  [22 11 88]]\n",
      "\n",
      " [[27 82 55]\n",
      "  [59 79 40]\n",
      "  [70 21 54]]]\n"
     ]
    }
   ],
   "source": [
    "import numpy as np\n",
    "x = np.random.randint(100,size=(9,3)).reshape(3,3,3)\n",
    "print(x)"
   ]
  },
  {
   "cell_type": "code",
   "execution_count": 2,
   "metadata": {},
   "outputs": [
    {
     "data": {
      "text/plain": [
       "1330"
      ]
     },
     "execution_count": 2,
     "metadata": {},
     "output_type": "execute_result"
    }
   ],
   "source": [
    "## soma de todos os elementos de uma matriz\n",
    "\n",
    "x.sum()"
   ]
  },
  {
   "cell_type": "code",
   "execution_count": 3,
   "metadata": {},
   "outputs": [
    {
     "data": {
      "text/plain": [
       "array([[ 88, 169, 169],\n",
       "       [104, 266, 148],\n",
       "       [105,  57, 224]])"
      ]
     },
     "execution_count": 3,
     "metadata": {},
     "output_type": "execute_result"
    }
   ],
   "source": [
    "## matriz resultado da soma de x[0] + v[1] + v[3]\n",
    "# importante notar a escolha do eixo que a soma acontecerá\n",
    "\n",
    "x1  = np.sum(x,axis=0)\n",
    "x1"
   ]
  },
  {
   "cell_type": "code",
   "execution_count": 4,
   "metadata": {},
   "outputs": [
    {
     "data": {
      "text/plain": [
       "array([[ 88, 169, 169],\n",
       "       [104, 266, 148],\n",
       "       [105,  57, 224]])"
      ]
     },
     "execution_count": 4,
     "metadata": {},
     "output_type": "execute_result"
    }
   ],
   "source": [
    "\n",
    "x2  = np.sum(x,axis=0)\n",
    "x2"
   ]
  }
 ],
 "metadata": {
  "kernelspec": {
   "display_name": "Python 3",
   "language": "python",
   "name": "python3"
  },
  "language_info": {
   "codemirror_mode": {
    "name": "ipython",
    "version": 3
   },
   "file_extension": ".py",
   "mimetype": "text/x-python",
   "name": "python",
   "nbconvert_exporter": "python",
   "pygments_lexer": "ipython3",
   "version": "3.8.10"
  }
 },
 "nbformat": 4,
 "nbformat_minor": 2
}
