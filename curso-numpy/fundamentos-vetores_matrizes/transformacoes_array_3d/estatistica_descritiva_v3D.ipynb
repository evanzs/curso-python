{
 "cells": [
  {
   "cell_type": "markdown",
   "metadata": {},
   "source": [
    "## Trabalhando com estatistica descritiva\n",
    "\n",
    "# valor min, valor max, média e padrao"
   ]
  },
  {
   "cell_type": "code",
   "execution_count": 2,
   "metadata": {},
   "outputs": [
    {
     "name": "stdout",
     "output_type": "stream",
     "text": [
      "[[[36 90 24]\n",
      "  [37 29 52]\n",
      "  [58 80  3]]\n",
      "\n",
      " [[71 59  3]\n",
      "  [69 63 75]\n",
      "  [ 5 84 13]]\n",
      "\n",
      " [[24  4 81]\n",
      "  [82 38 56]\n",
      "  [75 64 17]]]\n"
     ]
    }
   ],
   "source": [
    "import numpy as np\n",
    "x = np.random.randint(100,size=(9,3)).reshape(3,3,3)\n",
    "print(x)"
   ]
  },
  {
   "cell_type": "markdown",
   "metadata": {},
   "source": [
    "## Min, max, medio e padrao total"
   ]
  },
  {
   "cell_type": "code",
   "execution_count": 4,
   "metadata": {},
   "outputs": [
    {
     "name": "stdout",
     "output_type": "stream",
     "text": [
      "minimo total: 3\n",
      "max total: 90\n",
      "média total: 47.851851851851855\n",
      "desvio padrao total: 28.17761615407166\n"
     ]
    }
   ],
   "source": [
    "print(\"minimo total:\",np.min(x))\n",
    "print(\"max total:\",np.max(x))\n",
    "print(\"média total:\",np.mean(x))\n",
    "print(\"desvio padrao total:\",np.std(x))"
   ]
  },
  {
   "cell_type": "markdown",
   "metadata": {},
   "source": [
    "## Também é possivel fazer resultadno dos vetores 3D"
   ]
  },
  {
   "cell_type": "code",
   "execution_count": 10,
   "metadata": {},
   "outputs": [
    {
     "name": "stdout",
     "output_type": "stream",
     "text": [
      "minimo Vetores:\n",
      " [[24  4  3]\n",
      " [37 29 52]\n",
      " [ 5 64  3]]\n"
     ]
    }
   ],
   "source": [
    "print(\"minimo Vetores:\\n\",np.min(x,axis=0))"
   ]
  },
  {
   "cell_type": "code",
   "execution_count": 9,
   "metadata": {},
   "outputs": [
    {
     "name": "stdout",
     "output_type": "stream",
     "text": [
      "max Vetores:\n",
      " [[71 90 81]\n",
      " [82 63 75]\n",
      " [75 84 17]]\n"
     ]
    }
   ],
   "source": [
    "print(\"max Vetores:\\n\",np.max(x,axis=0))"
   ]
  },
  {
   "cell_type": "code",
   "execution_count": 8,
   "metadata": {},
   "outputs": [
    {
     "name": "stdout",
     "output_type": "stream",
     "text": [
      "mean Vetores:\n",
      " [[43.66666667 51.         36.        ]\n",
      " [62.66666667 43.33333333 61.        ]\n",
      " [46.         76.         11.        ]]\n"
     ]
    }
   ],
   "source": [
    "print(\"mean Vetores:\\n\",np.mean(x,axis=0))"
   ]
  }
 ],
 "metadata": {
  "kernelspec": {
   "display_name": "Python 3",
   "language": "python",
   "name": "python3"
  },
  "language_info": {
   "codemirror_mode": {
    "name": "ipython",
    "version": 3
   },
   "file_extension": ".py",
   "mimetype": "text/x-python",
   "name": "python",
   "nbconvert_exporter": "python",
   "pygments_lexer": "ipython3",
   "version": "3.8.10"
  }
 },
 "nbformat": 4,
 "nbformat_minor": 2
}
