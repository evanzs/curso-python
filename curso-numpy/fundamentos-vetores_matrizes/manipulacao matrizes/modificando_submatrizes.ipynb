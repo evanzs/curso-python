{
 "cells": [
  {
   "cell_type": "markdown",
   "metadata": {},
   "source": [
    "##Organizando em tuplas os indices"
   ]
  },
  {
   "cell_type": "code",
   "execution_count": 1,
   "metadata": {},
   "outputs": [
    {
     "name": "stdout",
     "output_type": "stream",
     "text": [
      "[[47 59 38]\n",
      " [87 49 71]\n",
      " [29 39 89]]\n"
     ]
    }
   ],
   "source": [
    "import numpy as np \n",
    "\n",
    "\n",
    "#gerando numeros aleatórios\n",
    "## definindo o seed\n",
    "\n",
    "np.random.seed(777)\n",
    "\n",
    "##gerando uma matriz de numeros aleatórios, os os numeros varias até 100 e o tamanho 3,3\n",
    "x = np.random.randint(100,size=(3,3))\n",
    "print(x)\n"
   ]
  },
  {
   "cell_type": "code",
   "execution_count": 4,
   "metadata": {},
   "outputs": [
    {
     "name": "stdout",
     "output_type": "stream",
     "text": [
      "[[47 59  0]\n",
      " [ 0 49 71]\n",
      " [ 0  0  0]]\n"
     ]
    }
   ],
   "source": [
    "A = np.where( ( x >= 40) & (x<= 80),x,0)\n",
    "##criando A como submatriz\n",
    "print(A)\n",
    "\n"
   ]
  },
  {
   "cell_type": "code",
   "execution_count": 6,
   "metadata": {},
   "outputs": [
    {
     "name": "stdout",
     "output_type": "stream",
     "text": [
      "[[47 59  0]\n",
      " [ 9 49 71]\n",
      " [ 9  0  0]]\n",
      "---------------\n",
      "[[47 59 38]\n",
      " [87 49 71]\n",
      " [29 39 89]]\n"
     ]
    }
   ],
   "source": [
    "##modificando apenas 2 valores da nova matriz A\n",
    "\n",
    "A[1:3,0]= 9,9\n",
    "print(A)\n",
    "print(\"---------------\")\n",
    "print(x)"
   ]
  },
  {
   "cell_type": "markdown",
   "metadata": {},
   "source": [
    "##perceba que nesse caso não ocorre broadcasting dos valores"
   ]
  },
  {
   "cell_type": "code",
   "execution_count": 7,
   "metadata": {},
   "outputs": [
    {
     "name": "stdout",
     "output_type": "stream",
     "text": [
      "[[47 59  0]\n",
      " [ 9 49 71]\n",
      " [ 9  0  0]]\n",
      "---------------\n",
      "[[47 59 38]\n",
      " [99 49 71]\n",
      " [99 39 89]]\n"
     ]
    }
   ],
   "source": [
    "x[1:3,0]= 99,99\n",
    "print(A)\n",
    "print(\"---------------\")\n",
    "print(x)"
   ]
  }
 ],
 "metadata": {
  "kernelspec": {
   "display_name": "Python 3",
   "language": "python",
   "name": "python3"
  },
  "language_info": {
   "codemirror_mode": {
    "name": "ipython",
    "version": 3
   },
   "file_extension": ".py",
   "mimetype": "text/x-python",
   "name": "python",
   "nbconvert_exporter": "python",
   "pygments_lexer": "ipython3",
   "version": "3.8.10"
  }
 },
 "nbformat": 4,
 "nbformat_minor": 2
}
