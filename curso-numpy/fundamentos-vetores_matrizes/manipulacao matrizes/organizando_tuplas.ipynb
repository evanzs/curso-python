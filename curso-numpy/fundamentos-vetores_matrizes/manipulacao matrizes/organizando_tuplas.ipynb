{
 "cells": [
  {
   "cell_type": "markdown",
   "metadata": {},
   "source": [
    "##Organizando em tuplas os indices"
   ]
  },
  {
   "cell_type": "code",
   "execution_count": 1,
   "metadata": {},
   "outputs": [
    {
     "name": "stdout",
     "output_type": "stream",
     "text": [
      "[[47 59 38]\n",
      " [87 49 71]\n",
      " [29 39 89]]\n"
     ]
    }
   ],
   "source": [
    "import numpy as np \n",
    "\n",
    "\n",
    "#gerando numeros aleatórios\n",
    "## definindo o seed\n",
    "\n",
    "np.random.seed(777)\n",
    "\n",
    "##gerando uma matriz de numeros aleatórios, os os numeros varias até 100 e o tamanho 3,3\n",
    "x = np.random.randint(100,size=(3,3))\n",
    "print(x)\n"
   ]
  },
  {
   "cell_type": "code",
   "execution_count": 2,
   "metadata": {},
   "outputs": [
    {
     "name": "stdout",
     "output_type": "stream",
     "text": [
      "valores: [47 49]\n"
     ]
    }
   ],
   "source": [
    "linha, coluna = np.where( ( x >= 40) & (x<= 50))\n",
    "\n",
    "###para saber quais são esses valores temos:\n",
    "valores = x[linha,coluna]\n",
    "print(\"valores:\", valores)"
   ]
  },
  {
   "cell_type": "code",
   "execution_count": 5,
   "metadata": {},
   "outputs": [
    {
     "name": "stdout",
     "output_type": "stream",
     "text": [
      "<zip object at 0x7f59742059c0>\n",
      "[(0, 0), (1, 1)]\n"
     ]
    }
   ],
   "source": [
    "##utilizando o zip para junar\n",
    "lista = zip(linha,coluna)\n",
    "print(lista)\n",
    "\n",
    "##transformando em uma lista\n",
    "lista = list(lista)\n",
    "print(lista) ## agora temos o conjunto de indices que passam pelo filtro\n"
   ]
  },
  {
   "cell_type": "markdown",
   "metadata": {},
   "source": [
    "##Note: uma vez como tupla é possivel realizar varios tipos de manipulações"
   ]
  },
  {
   "cell_type": "code",
   "execution_count": 6,
   "metadata": {},
   "outputs": [
    {
     "data": {
      "text/plain": [
       "[47, 49]"
      ]
     },
     "execution_count": 6,
     "metadata": {},
     "output_type": "execute_result"
    }
   ],
   "source": [
    "##Utilizando list comprehention para listar\n",
    "[x[i] for i in lista ]"
   ]
  }
 ],
 "metadata": {
  "kernelspec": {
   "display_name": "Python 3",
   "language": "python",
   "name": "python3"
  },
  "language_info": {
   "codemirror_mode": {
    "name": "ipython",
    "version": 3
   },
   "file_extension": ".py",
   "mimetype": "text/x-python",
   "name": "python",
   "nbconvert_exporter": "python",
   "pygments_lexer": "ipython3",
   "version": "3.8.10"
  }
 },
 "nbformat": 4,
 "nbformat_minor": 2
}
