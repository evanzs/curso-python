{
 "cells": [
  {
   "cell_type": "markdown",
   "metadata": {},
   "source": [
    "##gerando matrizes apatir de numeros aleatórios \n",
    "#seed = ponto de partida para gerar o numero"
   ]
  },
  {
   "cell_type": "code",
   "execution_count": 2,
   "metadata": {},
   "outputs": [
    {
     "data": {
      "text/plain": [
       "array([[47, 59, 38],\n",
       "       [87, 49, 71],\n",
       "       [29, 39, 89]])"
      ]
     },
     "execution_count": 2,
     "metadata": {},
     "output_type": "execute_result"
    }
   ],
   "source": [
    "import numpy as np \n",
    "\n",
    "\n",
    "#gerando numeros aleatórios\n",
    "## definindo o seed\n",
    "\n",
    "np.random.seed(777)\n",
    "\n",
    "##gerando uma matriz de numeros aleatórios, os os numeros varias até 100 e o tamanho 3,3\n",
    "x = np.random.randint(100,size=(3,3))\n",
    "print(x)\n",
    "\n"
   ]
  },
  {
   "cell_type": "code",
   "execution_count": 3,
   "metadata": {},
   "outputs": [
    {
     "name": "stdout",
     "output_type": "stream",
     "text": [
      "[[0 0 0 1]\n",
      " [0 1 0 0]\n",
      " [1 1 0 0]\n",
      " [1 1 1 1]]\n"
     ]
    }
   ],
   "source": [
    "##gerando uma matriz binária  4x4\n",
    "#OBS randint indica que será um numero randomico e inteiro.\n",
    "x = np.random.randint(2,size=(4,4))\n",
    "print(x)\n"
   ]
  }
 ],
 "metadata": {
  "kernelspec": {
   "display_name": "Python 3",
   "language": "python",
   "name": "python3"
  },
  "language_info": {
   "codemirror_mode": {
    "name": "ipython",
    "version": 3
   },
   "file_extension": ".py",
   "mimetype": "text/x-python",
   "name": "python",
   "nbconvert_exporter": "python",
   "pygments_lexer": "ipython3",
   "version": "3.8.10"
  }
 },
 "nbformat": 4,
 "nbformat_minor": 2
}
