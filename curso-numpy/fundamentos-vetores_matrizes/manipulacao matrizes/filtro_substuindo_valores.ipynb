{
 "cells": [
  {
   "cell_type": "markdown",
   "metadata": {},
   "source": [
    "##Organizando em tuplas os indices"
   ]
  },
  {
   "cell_type": "code",
   "execution_count": 3,
   "metadata": {},
   "outputs": [
    {
     "name": "stdout",
     "output_type": "stream",
     "text": [
      "[[47 59 38]\n",
      " [87 49 71]\n",
      " [29 39 89]]\n"
     ]
    }
   ],
   "source": [
    "import numpy as np \n",
    "\n",
    "\n",
    "#gerando numeros aleatórios\n",
    "## definindo o seed\n",
    "\n",
    "np.random.seed(777)\n",
    "\n",
    "##gerando uma matriz de numeros aleatórios, os os numeros varias até 100 e o tamanho 3,3\n",
    "x = np.random.randint(100,size=(3,3))\n",
    "print(x)\n"
   ]
  },
  {
   "cell_type": "code",
   "execution_count": 4,
   "metadata": {},
   "outputs": [
    {
     "name": "stdout",
     "output_type": "stream",
     "text": [
      "[47 49]\n"
     ]
    }
   ],
   "source": [
    "linha, coluna = np.where( ( x >= 40) & (x<= 50))\n",
    "valores = x[linha,coluna]\n",
    "print(valores)\n",
    "\n"
   ]
  },
  {
   "cell_type": "markdown",
   "metadata": {},
   "source": [
    "## usando a funcao .where() para substuir todos que n passam no filtro por zero\n",
    "#onde tudo que passar pelo critério vira viraraá o prmeiro parametro, no caso X\n",
    "#oque não passar vira 0"
   ]
  },
  {
   "cell_type": "code",
   "execution_count": 11,
   "metadata": {},
   "outputs": [
    {
     "name": "stdout",
     "output_type": "stream",
     "text": [
      "[[47  0  0]\n",
      " [ 0 49  0]\n",
      " [ 0  0  0]]\n",
      "[[10  0  0]\n",
      " [ 0 10  0]\n",
      " [ 0  0  0]]\n"
     ]
    }
   ],
   "source": [
    "a = np.where(((x >= 40) & (x<= 50)),x,0)\n",
    "print(a)\n",
    "\n",
    "\n",
    "\n"
   ]
  },
  {
   "cell_type": "code",
   "execution_count": 12,
   "metadata": {},
   "outputs": [
    {
     "name": "stdout",
     "output_type": "stream",
     "text": [
      "[[10  0  0]\n",
      " [ 0 10  0]\n",
      " [ 0  0  0]]\n"
     ]
    }
   ],
   "source": [
    "a = np.where(((x >= 40) & (x<= 50)),10,0)\n",
    "print(a)"
   ]
  },
  {
   "cell_type": "code",
   "execution_count": 13,
   "metadata": {},
   "outputs": [
    {
     "name": "stdout",
     "output_type": "stream",
     "text": [
      "[[47 10 10]\n",
      " [10 49 10]\n",
      " [10 10 10]]\n"
     ]
    }
   ],
   "source": [
    "##utilizando a negacao\n",
    "a = np.where(~((x >= 40) & (x<= 50)),10,x)\n",
    "print(a)"
   ]
  },
  {
   "cell_type": "code",
   "execution_count": null,
   "metadata": {},
   "outputs": [],
   "source": []
  }
 ],
 "metadata": {
  "kernelspec": {
   "display_name": "Python 3",
   "language": "python",
   "name": "python3"
  },
  "language_info": {
   "codemirror_mode": {
    "name": "ipython",
    "version": 3
   },
   "file_extension": ".py",
   "mimetype": "text/x-python",
   "name": "python",
   "nbconvert_exporter": "python",
   "pygments_lexer": "ipython3",
   "version": "3.8.10"
  }
 },
 "nbformat": 4,
 "nbformat_minor": 2
}
