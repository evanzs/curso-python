{
 "cells": [
  {
   "cell_type": "code",
   "execution_count": 3,
   "metadata": {},
   "outputs": [],
   "source": [
    "import numpy as np\n"
   ]
  },
  {
   "cell_type": "code",
   "execution_count": 4,
   "metadata": {},
   "outputs": [],
   "source": [
    "# Array de NP transforma todos os elementos em uma estrutura mais basica"
   ]
  },
  {
   "cell_type": "code",
   "execution_count": 5,
   "metadata": {},
   "outputs": [],
   "source": [
    "import numpy as np"
   ]
  },
  {
   "cell_type": "code",
   "execution_count": 6,
   "metadata": {},
   "outputs": [
    {
     "data": {
      "text/plain": [
       "array([ 1.,  2., nan,  3., nan,  5.])"
      ]
     },
     "execution_count": 6,
     "metadata": {},
     "output_type": "execute_result"
    }
   ],
   "source": [
    "x = np.array([ 1,2,np.nan,3,np.nan,5])\n",
    "x"
   ]
  },
  {
   "cell_type": "markdown",
   "metadata": {},
   "source": [
    "# OBS: dentro de uma estrutura de array só podemos ter um tipo de estrutura\n",
    "\n",
    "no exemplo abaixo, quando colocado 'nan' como string, todos os outros elementos viram string\n",
    "dificultando a maniputação do array"
   ]
  },
  {
   "cell_type": "code",
   "execution_count": 8,
   "metadata": {},
   "outputs": [
    {
     "data": {
      "text/plain": [
       "array(['1', '2', 'nan', '3', 'nan', '5'], dtype='<U21')"
      ]
     },
     "execution_count": 8,
     "metadata": {},
     "output_type": "execute_result"
    }
   ],
   "source": [
    "\n",
    "\n",
    "x2 = np.array([1,2,'nan',3,'nan',5])\n",
    "x2\n",
    "\n",
    "# lista trabalhan ormalmente\n",
    "\n",
    "x3 = np.array([1,2,'nan',3,'nan',5])\n",
    "x3"
   ]
  },
  {
   "cell_type": "markdown",
   "metadata": {},
   "source": [
    "# removendo NaNs de Arrays"
   ]
  },
  {
   "cell_type": "code",
   "execution_count": 11,
   "metadata": {},
   "outputs": [
    {
     "name": "stdout",
     "output_type": "stream",
     "text": [
      "x:  [ 1.  2. nan  3. nan  5.]\n",
      "x2:  [1. 2. 3. 5.]\n"
     ]
    }
   ],
   "source": [
    "print(\"x: \",x)\n",
    "\n",
    "## usando conceito de filtro na estrutura \n",
    "## ~ = negacao\n",
    "\n",
    "x2 = x[~np.isnan(x)]\n",
    "print(\"x2: \",x2)"
   ]
  },
  {
   "cell_type": "markdown",
   "metadata": {},
   "source": [
    "# operacoes em vetores com Nan\n",
    "\n",
    "operacoes basicas com vetores com NaN dentro retornam nan"
   ]
  },
  {
   "cell_type": "code",
   "execution_count": 13,
   "metadata": {},
   "outputs": [
    {
     "name": "stdout",
     "output_type": "stream",
     "text": [
      "media:  nan\n",
      "desvio:  nan\n",
      "soma:  nan\n"
     ]
    }
   ],
   "source": [
    "print(\"media: \",x.mean())\n",
    "print(\"desvio: \",x.std())\n",
    "print(\"soma: \",x.sum())"
   ]
  },
  {
   "cell_type": "code",
   "execution_count": 14,
   "metadata": {},
   "outputs": [
    {
     "name": "stdout",
     "output_type": "stream",
     "text": [
      "11.0\n"
     ]
    }
   ],
   "source": [
    "# removendo NaNs\n",
    "soma = x[~np.isnan(x)].sum()\n",
    "print(soma)"
   ]
  }
 ],
 "metadata": {
  "kernelspec": {
   "display_name": "Python 3",
   "language": "python",
   "name": "python3"
  },
  "language_info": {
   "codemirror_mode": {
    "name": "ipython",
    "version": 3
   },
   "file_extension": ".py",
   "mimetype": "text/x-python",
   "name": "python",
   "nbconvert_exporter": "python",
   "pygments_lexer": "ipython3",
   "version": "3.8.10"
  },
  "orig_nbformat": 4
 },
 "nbformat": 4,
 "nbformat_minor": 2
}
