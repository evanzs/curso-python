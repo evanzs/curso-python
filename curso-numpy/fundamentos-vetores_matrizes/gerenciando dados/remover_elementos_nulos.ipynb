{
 "cells": [
  {
   "cell_type": "markdown",
   "metadata": {},
   "source": [
    "# removendo elementos nuloes"
   ]
  },
  {
   "cell_type": "code",
   "execution_count": 2,
   "metadata": {},
   "outputs": [
    {
     "data": {
      "text/plain": [
       "array([ 1.,  0.,  2.,  0., nan,  0.,  3., nan,  5.,  0.])"
      ]
     },
     "execution_count": 2,
     "metadata": {},
     "output_type": "execute_result"
    }
   ],
   "source": [
    "import numpy as np\n",
    "x = np.array([ 1,0,2,0,np.nan,0,3,np.nan,5,0])\n",
    "x"
   ]
  },
  {
   "cell_type": "code",
   "execution_count": 11,
   "metadata": {},
   "outputs": [
    {
     "name": "stdout",
     "output_type": "stream",
     "text": [
      "(array([0, 2, 4, 6, 7, 8]),)\n",
      "tupla <class 'tuple'>\n",
      "Diferentes formas: \n",
      "[ 1.  2. nan  3. nan  5.]\n",
      "[ 1.  2. nan  3. nan  5.]\n",
      "removendo zeros e NaN\n",
      "[1. 2. 3. 5.]\n"
     ]
    }
   ],
   "source": [
    "print(x.nonzero())\n",
    "print(\"tupla\", type(x.nonzero()))\n",
    "indices = x.nonzero()\n",
    "print(\"Diferentes formas: \")\n",
    "print(x[indices])\n",
    "print(x[x.nonzero()])\n",
    "\n",
    "print(\"removendo zeros e NaN\")\n",
    "retorno = x[indices][~np.isnan(x[indices])]\n",
    "print(retorno)"
   ]
  }
 ],
 "metadata": {
  "kernelspec": {
   "display_name": "Python 3",
   "language": "python",
   "name": "python3"
  },
  "language_info": {
   "codemirror_mode": {
    "name": "ipython",
    "version": 3
   },
   "file_extension": ".py",
   "mimetype": "text/x-python",
   "name": "python",
   "nbconvert_exporter": "python",
   "pygments_lexer": "ipython3",
   "version": "3.8.10"
  }
 },
 "nbformat": 4,
 "nbformat_minor": 2
}
