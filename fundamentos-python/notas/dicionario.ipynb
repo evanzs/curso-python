{
 "cells": [
  {
   "cell_type": "markdown",
   "metadata": {},
   "source": [
    "# Dicionário \n",
    "\n",
    "#estrutura de chave e valor"
   ]
  },
  {
   "cell_type": "code",
   "execution_count": 2,
   "metadata": {},
   "outputs": [
    {
     "name": "stdout",
     "output_type": "stream",
     "text": [
      "{'nome': 'evandro', 'idade': 30, 'curso': ['angular', 'python']}\n",
      "{'nome': 'evandro', 'idade': 44, 'curso': ['angular', 'python']}\n",
      "{'nome': 'evandro', 'idade': 44, 'curso': ['angular', 'python', 'Javascript']}\n",
      "{'nome': 'evandro', 'curso': ['angular', 'python', 'Javascript']}\n"
     ]
    }
   ],
   "source": [
    "pessoa = {'nome':'evandro','idade':30,'curso':['angular','python']}\n",
    "print(pessoa)\n",
    "pessoa['idade']= 44\n",
    "print(pessoa)\n",
    "pessoa['curso'].append('Javascript')\n",
    "print(pessoa)\n",
    "pessoa.pop('idade')\n",
    "print(pessoa)"
   ]
  }
 ],
 "metadata": {
  "kernelspec": {
   "display_name": "Python 3",
   "language": "python",
   "name": "python3"
  },
  "language_info": {
   "codemirror_mode": {
    "name": "ipython",
    "version": 3
   },
   "file_extension": ".py",
   "mimetype": "text/x-python",
   "name": "python",
   "nbconvert_exporter": "python",
   "pygments_lexer": "ipython3",
   "version": "3.8.10"
  },
  "orig_nbformat": 4
 },
 "nbformat": 4,
 "nbformat_minor": 2
}
