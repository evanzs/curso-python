{
 "cells": [
  {
   "cell_type": "markdown",
   "metadata": {},
   "source": [
    "# Listas em python\n",
    "#lista é uma sequencia mutavel = é possivel sempre add ou sub membros\n",
    "\n",
    "#varios tipos podem ser add a lista(heterogenia)\n",
    "\n",
    "#lista é uma estrutura indexada"
   ]
  },
  {
   "cell_type": "code",
   "execution_count": 2,
   "metadata": {},
   "outputs": [
    {
     "data": {
      "text/plain": [
       "list"
      ]
     },
     "execution_count": 2,
     "metadata": {},
     "output_type": "execute_result"
    }
   ],
   "source": [
    "lista = []\n",
    "type(lista)"
   ]
  },
  {
   "cell_type": "code",
   "execution_count": 2,
   "metadata": {},
   "outputs": [
    {
     "data": {
      "text/plain": [
       "['__add__',\n",
       " '__class__',\n",
       " '__contains__',\n",
       " '__delattr__',\n",
       " '__delitem__',\n",
       " '__dir__',\n",
       " '__doc__',\n",
       " '__eq__',\n",
       " '__format__',\n",
       " '__ge__',\n",
       " '__getattribute__',\n",
       " '__getitem__',\n",
       " '__gt__',\n",
       " '__hash__',\n",
       " '__iadd__',\n",
       " '__imul__',\n",
       " '__init__',\n",
       " '__init_subclass__',\n",
       " '__iter__',\n",
       " '__le__',\n",
       " '__len__',\n",
       " '__lt__',\n",
       " '__mul__',\n",
       " '__ne__',\n",
       " '__new__',\n",
       " '__reduce__',\n",
       " '__reduce_ex__',\n",
       " '__repr__',\n",
       " '__reversed__',\n",
       " '__rmul__',\n",
       " '__setattr__',\n",
       " '__setitem__',\n",
       " '__sizeof__',\n",
       " '__str__',\n",
       " '__subclasshook__',\n",
       " 'append',\n",
       " 'clear',\n",
       " 'copy',\n",
       " 'count',\n",
       " 'extend',\n",
       " 'index',\n",
       " 'insert',\n",
       " 'pop',\n",
       " 'remove',\n",
       " 'reverse',\n",
       " 'sort']"
      ]
     },
     "execution_count": 2,
     "metadata": {},
     "output_type": "execute_result"
    }
   ],
   "source": [
    "dir(lista)"
   ]
  },
  {
   "cell_type": "code",
   "execution_count": 10,
   "metadata": {},
   "outputs": [
    {
     "name": "stdout",
     "output_type": "stream",
     "text": [
      "12\n",
      "14\n",
      "[1, 2, 'Ana']\n",
      "[1, 'Ana']\n",
      "['Ana', 1]\n",
      "['Ana', 1, ['eeee', 'bbb']]\n"
     ]
    }
   ],
   "source": [
    "print(len(lista))\n",
    "lista.append(1)\n",
    "lista.append(3)\n",
    "print(len(lista))\n",
    "\n",
    "nova_lista = [1,2,'Ana']\n",
    "print(nova_lista)\n",
    "nova_lista.remove(2)\n",
    "print(nova_lista)\n",
    "nova_lista.reverse() #reverse e ja atribui (inplace)\n",
    "print(nova_lista)\n",
    "\n",
    "#nova lista na lista\n",
    "\n",
    "nova_lista.append(['eeee','bbb'])\n",
    "print(nova_lista)\n"
   ]
  },
  {
   "cell_type": "markdown",
   "metadata": {},
   "source": [
    "# Parte 2 acessando elementos"
   ]
  },
  {
   "cell_type": "code",
   "execution_count": 15,
   "metadata": {},
   "outputs": [
    {
     "name": "stdout",
     "output_type": "stream",
     "text": [
      "3\n"
     ]
    },
    {
     "ename": "ValueError",
     "evalue": "'0' is not in list",
     "output_type": "error",
     "traceback": [
      "\u001b[0;31m---------------------------------------------------------------------------\u001b[0m",
      "\u001b[0;31mValueError\u001b[0m                                Traceback (most recent call last)",
      "Cell \u001b[0;32mIn[15], line 6\u001b[0m\n\u001b[1;32m      3\u001b[0m \u001b[39mprint\u001b[39m(lista\u001b[39m.\u001b[39mindex(\u001b[39m'\u001b[39m\u001b[39mGuilherme\u001b[39m\u001b[39m'\u001b[39m))\n\u001b[1;32m      5\u001b[0m \u001b[39m#se nao tiver na lista retorna erro\u001b[39;00m\n\u001b[0;32m----> 6\u001b[0m \u001b[39mprint\u001b[39m(lista\u001b[39m.\u001b[39;49mindex(\u001b[39m'\u001b[39;49m\u001b[39m0\u001b[39;49m\u001b[39m'\u001b[39;49m))\n",
      "\u001b[0;31mValueError\u001b[0m: '0' is not in list"
     ]
    }
   ],
   "source": [
    "lista = [1,5,'Rebeca','Guilherme',3.445]\n",
    "\n",
    "print(lista.index('Guilherme'))\n",
    "\n",
    "#se nao tiver na lista retorna erro\n",
    "print(lista.index('0'))\n"
   ]
  },
  {
   "cell_type": "code",
   "execution_count": 25,
   "metadata": {},
   "outputs": [
    {
     "name": "stdout",
     "output_type": "stream",
     "text": [
      "1 [2, 3]\n",
      "2 [2, 3, 4, 5, 6, 7, 8]\n",
      "3 [2, 3, 4, 5, 6, 7, 8, 9]\n",
      "4 [1, 2, 3, 4, 5, 6, 7, 8]\n",
      "5 [1, 2, 3, 4, 5, 6, 7, 8, 9]\n",
      "6 [1, 3, 5, 7, 9]\n",
      "7 9\n"
     ]
    }
   ],
   "source": [
    "#ranges em listas\n",
    "lista =[1,2,3,4,5,6,7,8,9]\n",
    "print(\"1\",lista[1:3])\n",
    "print(\"2\",lista[1:-1])\n",
    "print(\"3\",lista[1:])\n",
    "print(\"4\",lista[:-1])\n",
    "print(\"5\",lista[::])\n",
    "print(\"6\",lista[::2])\n",
    "print(\"7\",lista[-1])\n",
    "\n",
    "\n"
   ]
  },
  {
   "cell_type": "code",
   "execution_count": 26,
   "metadata": {},
   "outputs": [
    {
     "name": "stdout",
     "output_type": "stream",
     "text": [
      "[1, 2, 4, 5, 6, 7, 8, 9]\n"
     ]
    }
   ],
   "source": [
    "# deleta elemento por indice\n",
    "\n",
    "del lista[2]\n",
    "\n",
    "print(lista)"
   ]
  }
 ],
 "metadata": {
  "kernelspec": {
   "display_name": "Python 3",
   "language": "python",
   "name": "python3"
  },
  "language_info": {
   "codemirror_mode": {
    "name": "ipython",
    "version": 3
   },
   "file_extension": ".py",
   "mimetype": "text/x-python",
   "name": "python",
   "nbconvert_exporter": "python",
   "pygments_lexer": "ipython3",
   "version": "3.8.10"
  },
  "orig_nbformat": 4
 },
 "nbformat": 4,
 "nbformat_minor": 2
}
