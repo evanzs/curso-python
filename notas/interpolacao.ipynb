{
 "cells": [
  {
   "cell_type": "markdown",
   "metadata": {},
   "source": [
    "# Interpolação\n"
   ]
  },
  {
   "cell_type": "code",
   "execution_count": 4,
   "metadata": {},
   "outputs": [
    {
     "name": "stdout",
     "output_type": "stream",
     "text": [
      "Nome: ana Idade: 30\n",
      "Nome: ana Idade: 30.33\n"
     ]
    }
   ],
   "source": [
    "#Forma 1\n",
    "\n",
    "nome,idade = 'ana',30\n",
    "\n",
    "print('Nome: %s Idade: %d' % (nome,idade))\n",
    "\n",
    "nome,idade = 'ana',30.3333\n",
    "\n",
    "print('Nome: %s Idade: %.2f' % (nome,idade))\n"
   ]
  },
  {
   "cell_type": "code",
   "execution_count": 8,
   "metadata": {},
   "outputs": [
    {
     "name": "stdout",
     "output_type": "stream",
     "text": [
      "Nome: 30 Idade: ana\n",
      "Nome: ana Idade: 30\n"
     ]
    }
   ],
   "source": [
    "# Forma 2  para python < 3.6\n",
    "nome,idade = 'ana',30\n",
    "\n",
    "print('Nome: {1} Idade: {0}'.format(nome,idade))\n",
    "print('Nome: {0} Idade: {1}'.format(nome,idade))"
   ]
  },
  {
   "cell_type": "code",
   "execution_count": 13,
   "metadata": {},
   "outputs": [
    {
     "name": "stdout",
     "output_type": "stream",
     "text": [
      "Nome: ana Idade: 30\n"
     ]
    }
   ],
   "source": [
    "\n",
    "# Para python >= 3.6\n",
    "\n",
    "nome,idade = 'ana',30\n",
    "\n",
    "print(f'Nome: {nome} Idade: {idade}')"
   ]
  },
  {
   "cell_type": "code",
   "execution_count": 15,
   "metadata": {},
   "outputs": [
    {
     "name": "stdout",
     "output_type": "stream",
     "text": [
      "Nome:ana Idade:30\n"
     ]
    }
   ],
   "source": [
    "from string import Template\n",
    "\n",
    "s = Template('Nome:$nome Idade:$idade')\n",
    "print(s.substitute(nome=nome,idade=idade))"
   ]
  },
  {
   "cell_type": "code",
   "execution_count": null,
   "metadata": {},
   "outputs": [],
   "source": []
  },
  {
   "cell_type": "code",
   "execution_count": null,
   "metadata": {},
   "outputs": [],
   "source": []
  }
 ],
 "metadata": {
  "kernelspec": {
   "display_name": "Python 3",
   "language": "python",
   "name": "python3"
  },
  "language_info": {
   "codemirror_mode": {
    "name": "ipython",
    "version": 3
   },
   "file_extension": ".py",
   "mimetype": "text/x-python",
   "name": "python",
   "nbconvert_exporter": "python",
   "pygments_lexer": "ipython3",
   "version": "3.8.10"
  },
  "orig_nbformat": 4
 },
 "nbformat": 4,
 "nbformat_minor": 2
}
