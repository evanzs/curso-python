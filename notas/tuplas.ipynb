{
 "cells": [
  {
   "cell_type": "markdown",
   "metadata": {},
   "source": [
    "# Tuplas em python\n",
    "\n",
    "#nao podem ser modificadas\n",
    "#indexado\n",
    "\n",
    "# tupla vs lista\n",
    "#lista pode ser modificada tupla nao pode"
   ]
  },
  {
   "cell_type": "code",
   "execution_count": 1,
   "metadata": {},
   "outputs": [],
   "source": [
    "tupla = tuple()\n",
    "tupla2 = ()"
   ]
  },
  {
   "cell_type": "code",
   "execution_count": 10,
   "metadata": {},
   "outputs": [
    {
     "name": "stdout",
     "output_type": "stream",
     "text": [
      "<class 'str'>\n",
      "<class 'tuple'>\n",
      "('num',)\n",
      "num\n"
     ]
    },
    {
     "ename": "TypeError",
     "evalue": "'tuple' object does not support item assignment",
     "output_type": "error",
     "traceback": [
      "\u001b[0;31m---------------------------------------------------------------------------\u001b[0m",
      "\u001b[0;31mTypeError\u001b[0m                                 Traceback (most recent call last)",
      "Cell \u001b[0;32mIn[10], line 13\u001b[0m\n\u001b[1;32m      9\u001b[0m \u001b[39mprint\u001b[39m(tupla[\u001b[39m0\u001b[39m])\n\u001b[1;32m     12\u001b[0m \u001b[39m#nao é mutavel \u001b[39;00m\n\u001b[0;32m---> 13\u001b[0m tupla[\u001b[39m0\u001b[39;49m] \u001b[39m=\u001b[39m \u001b[39m'\u001b[39m\u001b[39mteste\u001b[39m\u001b[39m'\u001b[39m\n",
      "\u001b[0;31mTypeError\u001b[0m: 'tuple' object does not support item assignment"
     ]
    }
   ],
   "source": [
    "tupla = ('um')\n",
    "print(type(tupla))\n",
    "tupla = ('num',) #criando uma tupla de verdade\n",
    "print(type(tupla))\n",
    "\n",
    "\n",
    "#acessando tupla\n",
    "print(tupla)\n",
    "print(tupla[0])\n",
    "\n",
    "\n",
    "#nao é mutavel \n",
    "tupla[0] = 'teste'\n"
   ]
  },
  {
   "cell_type": "code",
   "execution_count": 12,
   "metadata": {},
   "outputs": [
    {
     "name": "stdout",
     "output_type": "stream",
     "text": [
      "1\n",
      "1\n",
      "3\n"
     ]
    }
   ],
   "source": [
    "cores = ('azul','amarelo','branco')\n",
    "\n",
    "print(cores.index('amarelo'))\n",
    "print(cores.count('amarelo'))\n",
    "print(len(cores))"
   ]
  }
 ],
 "metadata": {
  "kernelspec": {
   "display_name": "Python 3",
   "language": "python",
   "name": "python3"
  },
  "language_info": {
   "codemirror_mode": {
    "name": "ipython",
    "version": 3
   },
   "file_extension": ".py",
   "mimetype": "text/x-python",
   "name": "python",
   "nbconvert_exporter": "python",
   "pygments_lexer": "ipython3",
   "version": "3.8.10"
  },
  "orig_nbformat": 4
 },
 "nbformat": 4,
 "nbformat_minor": 2
}
