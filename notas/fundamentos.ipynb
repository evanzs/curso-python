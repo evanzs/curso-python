{
 "cells": [
  {
   "cell_type": "code",
   "execution_count": 7,
   "metadata": {},
   "outputs": [
    {
     "name": "stdout",
     "output_type": "stream",
     "text": [
      "Boolean True False\n",
      "float 2.2\n",
      "string string\n",
      "lista [1, 2, 3]\n",
      "Dicionario (chave,valor) {'nome': 'Pedro', 'idade': 22}\n"
     ]
    }
   ],
   "source": [
    "#Tipos Basicos\n",
    "\n",
    "print(\"Boolean\",True,False)\n",
    "print(\"float\",1.2 +1)\n",
    "print(\"string\",\"string\")\n",
    "print(\"lista\",[1,2,3])\n",
    "print(\"Dicionario (chave,valor)\",{'nome':'Pedro','idade':22})\n",
    "print(\"tipo nulo\",None)"
   ]
  },
  {
   "cell_type": "code",
   "execution_count": 8,
   "metadata": {},
   "outputs": [
    {
     "ename": "TypeError",
     "evalue": "unsupported operand type(s) for +: 'int' and 'str'",
     "output_type": "error",
     "traceback": [
      "\u001b[0;31m---------------------------------------------------------------------------\u001b[0m",
      "\u001b[0;31mTypeError\u001b[0m                                 Traceback (most recent call last)",
      "Cell \u001b[0;32mIn[8], line 2\u001b[0m\n\u001b[1;32m      1\u001b[0m \u001b[39m#Tipos Basicos ambiguidade \u001b[39;00m\n\u001b[0;32m----> 2\u001b[0m \u001b[39mprint\u001b[39m(\u001b[39m3\u001b[39;49m\u001b[39m+\u001b[39;49m\u001b[39m'\u001b[39;49m\u001b[39m3\u001b[39;49m\u001b[39m'\u001b[39;49m) \n",
      "\u001b[0;31mTypeError\u001b[0m: unsupported operand type(s) for +: 'int' and 'str'"
     ]
    }
   ],
   "source": [
    "#Tipos Basicos ambiguidade \n",
    "print(3+'3') "
   ]
  },
  {
   "cell_type": "code",
   "execution_count": 9,
   "metadata": {},
   "outputs": [
    {
     "name": "stdout",
     "output_type": "stream",
     "text": [
      "21\n",
      "Evandro\n"
     ]
    }
   ],
   "source": [
    "#Variaveis\n",
    "\n",
    "\n",
    "#Dinamicamente tipadas \n",
    "b = 10\n",
    "a = 11\n",
    "\n",
    "print(a + b)\n",
    "\n",
    "a = \"Evandro\"\n",
    "\n",
    "print(a)\n",
    "\n",
    "#interpretador é fortemente tipado, pq ele ta sempre ciente do tipo"
   ]
  },
  {
   "cell_type": "code",
   "execution_count": null,
   "metadata": {},
   "outputs": [],
   "source": [
    "#Comentários\n",
    "# minhas variaveis\n",
    "\n",
    "salario = 35050\n",
    "depesas = 3333\n",
    "\n",
    "''' comentario multiplas linhas'''\n",
    "\n",
    "# print(\"FIM\")\n",
    " \n",
    "\n",
    "print(\"TEste\") # teste teste\n",
    "\n"
   ]
  },
  {
   "cell_type": "code",
   "execution_count": 15,
   "metadata": {},
   "outputs": [
    {
     "ename": "SyntaxError",
     "evalue": "invalid syntax (3844854175.py, line 21)",
     "output_type": "error",
     "traceback": [
      "\u001b[0;36m  Cell \u001b[0;32mIn[15], line 21\u001b[0;36m\u001b[0m\n\u001b[0;31m    print(\"operador pos fix\", 2++)\u001b[0m\n\u001b[0m                                 ^\u001b[0m\n\u001b[0;31mSyntaxError\u001b[0m\u001b[0;31m:\u001b[0m invalid syntax\n"
     ]
    }
   ],
   "source": [
    "#Operadores Aritméticos\n",
    "\n",
    "print()\n",
    "\n",
    "\n",
    "#divisão float que devolve inteiro\n",
    "\n",
    "#divisão normal\n",
    "print(5/4)\n",
    "\n",
    "#divisão que só retorna o inteiro\n",
    "print(5//4)\n",
    "\n",
    "\n",
    "print('exponente', 2 ** 8)\n",
    "\n",
    "print(\"modulo\", 2 % 8)\n",
    "\n",
    "print(\"operador binario\", 2+b)\n",
    "print(\"operador unario\",++2)\n"
   ]
  },
  {
   "cell_type": "code",
   "execution_count": 17,
   "metadata": {},
   "outputs": [
    {
     "name": "stdout",
     "output_type": "stream",
     "text": [
      "False\n",
      "True\n",
      "True\n",
      "True\n",
      "False\n"
     ]
    }
   ],
   "source": [
    "#Operadores relacionais\n",
    "\n",
    "#resultado é Verdadeiro ou Falso\n",
    "\n",
    "print(3 > 4)\n",
    "print(4 <= 4)\n",
    "print (3 != 2)\n",
    "print(4 == 4)\n",
    "print( 3 == '3')\n",
    "\n"
   ]
  },
  {
   "cell_type": "code",
   "execution_count": 20,
   "metadata": {},
   "outputs": [
    {
     "name": "stdout",
     "output_type": "stream",
     "text": [
      "3\n",
      "10\n",
      "5\n",
      "10\n",
      "5.0\n",
      "1.0\n",
      "1.0\n",
      "0.0\n"
     ]
    }
   ],
   "source": [
    "# Operadores de Atribuição\n",
    "\n",
    "#simples\n",
    "a = 3\n",
    "\n",
    "print(a)\n",
    "\n",
    "a = a + 7\n",
    "print(a)\n",
    "\n",
    "\n",
    "a = 0\n",
    "a +=5\n",
    "\n",
    "print(a)\n",
    "\n",
    "a *= 2\n",
    "print(a)\n",
    "\n",
    "a /= 2\n",
    "print(a)\n",
    "\n",
    "\n",
    "a %= 2\n",
    "print(a)\n",
    "\n",
    "a **= 8\n",
    "print(a)\n",
    "\n",
    "a //= 127\n",
    "print(a)\n"
   ]
  },
  {
   "cell_type": "code",
   "execution_count": 21,
   "metadata": {},
   "outputs": [
    {
     "name": "stdout",
     "output_type": "stream",
     "text": [
      "False\n"
     ]
    }
   ],
   "source": [
    "# operadores Logicos\n",
    "\n",
    "True or False\n",
    "\n",
    "print(7 != 3 and 2 > 3)\n",
    "print()"
   ]
  },
  {
   "cell_type": "code",
   "execution_count": 30,
   "metadata": {},
   "outputs": [
    {
     "name": "stdout",
     "output_type": "stream",
     "text": [
      "Hoje estou com roupas secas.\n",
      "roupas secas.\n"
     ]
    }
   ],
   "source": [
    "#Operadores Ternários\n",
    "\n",
    "esta_chvendo = False\n",
    "\n",
    "print('Hoje estou com roupas '  + ('secas.','molhadas')[esta_chvendo]\n",
    ")\n",
    "print('roupas molhadas ' if esta_chvendo else 'roupas secas.')"
   ]
  },
  {
   "cell_type": "code",
   "execution_count": 47,
   "metadata": {},
   "outputs": [
    {
     "name": "stdout",
     "output_type": "stream",
     "text": [
      "True\n",
      "True\n",
      "False\n"
     ]
    }
   ],
   "source": [
    "# Mais Operadores\n",
    "\n",
    "#operadores de membro\n",
    "\n",
    "lista = [1,2,'calar']\n",
    "\n",
    "print(2 in lista)\n",
    "print('Ana' not in lista)\n",
    "print('calar' not in lista)\n"
   ]
  },
  {
   "cell_type": "code",
   "execution_count": 50,
   "metadata": {},
   "outputs": [
    {
     "name": "stdout",
     "output_type": "stream",
     "text": [
      "True\n",
      "True\n",
      "False\n",
      "True\n",
      "False\n"
     ]
    }
   ],
   "source": [
    "#Operadores de identidade\n",
    "\n",
    "x = 3 \n",
    "y = 3\n",
    "z = x\n",
    "\n",
    "print(x is y)\n",
    "print(y is z)\n",
    "print(x is not z)\n",
    "\n",
    "\n",
    "listaA = [1,2,3]\n",
    "listaB = listaA\n",
    "listaC = [1,2,3]\n",
    "\n",
    "\n",
    "\n",
    "print(listaA is listaB) # apontam para o mesmo local ( mesma identidade)\n",
    "print(listaA is listaC) # não apontam pro mesmo local (nao tem a mesma identidade)"
   ]
  }
 ],
 "metadata": {
  "kernelspec": {
   "display_name": "Python 3",
   "language": "python",
   "name": "python3"
  },
  "language_info": {
   "codemirror_mode": {
    "name": "ipython",
    "version": 3
   },
   "file_extension": ".py",
   "mimetype": "text/x-python",
   "name": "python",
   "nbconvert_exporter": "python",
   "pygments_lexer": "ipython3",
   "version": "3.8.10"
  },
  "orig_nbformat": 4
 },
 "nbformat": 4,
 "nbformat_minor": 2
}
