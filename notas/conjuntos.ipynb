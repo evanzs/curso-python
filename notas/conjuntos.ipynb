{
 "cells": [
  {
   "cell_type": "markdown",
   "metadata": {},
   "source": [
    "# Conjuntos\n",
    "\n",
    "#conceito apenas de valores\n",
    "\n",
    "#diferente da lista, conjunto nao aceita:  \n",
    "- reptição\n",
    "- nao é indexado\n",
    "- não respeita ordem "
   ]
  },
  {
   "cell_type": "code",
   "execution_count": 4,
   "metadata": {},
   "outputs": [
    {
     "name": "stdout",
     "output_type": "stream",
     "text": [
      "<class 'set'>\n",
      "{'4', '3', '1', '2'}\n",
      "False\n",
      "True\n",
      "True\n"
     ]
    }
   ],
   "source": [
    "a = { 1,2,3}\n",
    "print(type(a))\n",
    "\n",
    "#nao permite repetição\n",
    "a = set ('12312312412')\n",
    "print(a)\n",
    "print(3 in a)\n",
    "print(3 not in a)\n",
    "print(a == {'4', '3', '1', '2'})\n"
   ]
  },
  {
   "cell_type": "markdown",
   "metadata": {},
   "source": [
    "# OPERACOES"
   ]
  },
  {
   "cell_type": "code",
   "execution_count": 6,
   "metadata": {},
   "outputs": [
    {
     "name": "stdout",
     "output_type": "stream",
     "text": [
      "{1, 2}\n",
      "{1, 2, 3}\n"
     ]
    }
   ],
   "source": [
    "#união\n",
    "\n",
    "c  = {1,2}\n",
    "c2 = {2,3}\n",
    "b = c.union(c2)\n",
    "print(c)\n",
    "print(b)\n"
   ]
  },
  {
   "cell_type": "code",
   "execution_count": 9,
   "metadata": {},
   "outputs": [
    {
     "name": "stdout",
     "output_type": "stream",
     "text": [
      "set()\n",
      "{2}\n"
     ]
    }
   ],
   "source": [
    "# Intersecao\n",
    "c  = {1,2}\n",
    "c2 = {4,3}\n",
    "c3 = {2,4}\n",
    "b = c.intersection(c2)\n",
    "d = c.intersection(c3)\n",
    "print(b)\n",
    "print(d)\n"
   ]
  },
  {
   "cell_type": "code",
   "execution_count": 1,
   "metadata": {},
   "outputs": [
    {
     "name": "stdout",
     "output_type": "stream",
     "text": [
      "{1, 2, 3, 5, 6}\n"
     ]
    }
   ],
   "source": [
    "c1 = {1,2,3}\n",
    "c2 = {5,6}\n",
    "\n",
    "#união com alteração\n",
    "c1.update(c2)\n",
    "print(c1)"
   ]
  },
  {
   "cell_type": "code",
   "execution_count": 5,
   "metadata": {},
   "outputs": [
    {
     "name": "stdout",
     "output_type": "stream",
     "text": [
      "{1, 2, 3, 5, 6}\n",
      "c1 está contido em c2? False\n",
      "c2 está contido em c1? True\n",
      "c1 está contido em b? False\n",
      "b está contido em c1? False\n"
     ]
    }
   ],
   "source": [
    "c1 = {1,2,3}\n",
    "c2 = {5,6}\n",
    "b = { 10,9}\n",
    "#união com alteração\n",
    "c1.update(c2)\n",
    "print(c1)\n",
    "\n",
    "# comparação \n",
    "\n",
    "#c1 está contido em c2?\n",
    "print(\"c1 está contido em c2?\", c1 <= c2)\n",
    "print(\"c2 está contido em c1?\", c1 >= c2)\n",
    "print(\"c1 está contido em b?\", c1 <=b)\n",
    "print(\"b está contido em c1?\", c1 >=b)"
   ]
  },
  {
   "cell_type": "code",
   "execution_count": 12,
   "metadata": {},
   "outputs": [
    {
     "name": "stdout",
     "output_type": "stream",
     "text": [
      "{1, 2}\n"
     ]
    }
   ],
   "source": [
    "#diferença entre conjuntos\n",
    "\n",
    "{1,2,3} - { 2}\n",
    "\n",
    "# não há o {1,2,3} + {2}\n",
    "\n",
    "c1= {1,2,3}\n",
    "c2 = { 3,4}\n",
    "c1 -=c2\n",
    "print(c1)"
   ]
  },
  {
   "cell_type": "code",
   "execution_count": null,
   "metadata": {},
   "outputs": [],
   "source": []
  },
  {
   "cell_type": "code",
   "execution_count": null,
   "metadata": {},
   "outputs": [],
   "source": []
  }
 ],
 "metadata": {
  "kernelspec": {
   "display_name": "Python 3",
   "language": "python",
   "name": "python3"
  },
  "language_info": {
   "codemirror_mode": {
    "name": "ipython",
    "version": 3
   },
   "file_extension": ".py",
   "mimetype": "text/x-python",
   "name": "python",
   "nbconvert_exporter": "python",
   "pygments_lexer": "ipython3",
   "version": "3.8.10"
  },
  "orig_nbformat": 4
 },
 "nbformat": 4,
 "nbformat_minor": 2
}
